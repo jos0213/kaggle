{
  "cells": [
    {
      "cell_type": "markdown",
      "metadata": {
        "id": "view-in-github",
        "colab_type": "text"
      },
      "source": [
        "<a href=\"https://colab.research.google.com/github/jos0213/kaggle/blob/main/public_0_86457_LightGBM_Optuna.ipynb\" target=\"_parent\"><img src=\"https://colab.research.google.com/assets/colab-badge.svg\" alt=\"Open In Colab\"/></a>"
      ]
    },
    {
      "cell_type": "code",
      "source": [
        "from google.colab import drive\n",
        "drive.mount('/content/drive')"
      ],
      "metadata": {
        "colab": {
          "base_uri": "https://localhost:8080/"
        },
        "id": "SVCOHRxTBddl",
        "outputId": "a405f643-280e-46e4-c748-e09b16c96cd9"
      },
      "execution_count": 1,
      "outputs": [
        {
          "output_type": "stream",
          "name": "stdout",
          "text": [
            "Mounted at /content/drive\n"
          ]
        }
      ]
    },
    {
      "cell_type": "code",
      "execution_count": 2,
      "metadata": {
        "colab": {
          "base_uri": "https://localhost:8080/"
        },
        "id": "NKUOGfQVBakb",
        "outputId": "51f8d3af-db9b-499d-9928-7ba15e25da98"
      },
      "outputs": [
        {
          "output_type": "stream",
          "name": "stderr",
          "text": [
            "/usr/local/lib/python3.11/dist-packages/dask/dataframe/__init__.py:42: FutureWarning: \n",
            "Dask dataframe query planning is disabled because dask-expr is not installed.\n",
            "\n",
            "You can install it with `pip install dask[dataframe]` or `conda install dask`.\n",
            "This will raise in a future version.\n",
            "\n",
            "  warnings.warn(msg, FutureWarning)\n"
          ]
        }
      ],
      "source": [
        "# 데이터 처리 및 분석\n",
        "import pandas as pd\n",
        "import numpy as np\n",
        "\n",
        "# 모델 학습 및 평가\n",
        "from sklearn.model_selection import train_test_split, StratifiedKFold\n",
        "from sklearn.metrics import f1_score, classification_report, confusion_matrix\n",
        "\n",
        "# 데이터 시각화\n",
        "import seaborn as sns\n",
        "import matplotlib.pyplot as plt\n",
        "\n",
        "# 데이터 불균형 문제 해결\n",
        "from imblearn.over_sampling import SMOTE\n",
        "\n",
        "# 머신러닝 모델\n",
        "import lightgbm as lgb"
      ]
    },
    {
      "cell_type": "code",
      "execution_count": 3,
      "metadata": {
        "id": "rUNV_tMdBake"
      },
      "outputs": [],
      "source": [
        "# 데이터 로드\n",
        "train = pd.read_csv('/content/drive/MyDrive/DACON/2025/(202502) 부동산 허위매물 분류 해커톤: 가짜를 색출하라!/open.zip (Unzipped Files)/train.csv')\n",
        "test = pd.read_csv('/content/drive/MyDrive/DACON/2025/(202502) 부동산 허위매물 분류 해커톤: 가짜를 색출하라!/open.zip (Unzipped Files)/test.csv')"
      ]
    },
    {
      "cell_type": "code",
      "execution_count": 4,
      "metadata": {
        "id": "OJbtuoEeBakf"
      },
      "outputs": [],
      "source": [
        "# === 결측치 처리 ===\n",
        "columns_fill_knn = ['해당층', '총층', '전용면적', '방수', '욕실수', '총주차대수']\n",
        "from sklearn.impute import KNNImputer\n",
        "imputer = KNNImputer(n_neighbors=5)\n",
        "train[columns_fill_knn] = imputer.fit_transform(train[columns_fill_knn])\n",
        "test[columns_fill_knn] = imputer.transform(test[columns_fill_knn])"
      ]
    },
    {
      "cell_type": "code",
      "execution_count": 5,
      "metadata": {
        "id": "7cQmyesLBakf"
      },
      "outputs": [],
      "source": [
        "# === 레이블 인코딩 ===\n",
        "from sklearn.preprocessing import LabelEncoder\n",
        "label_encode_cols = ['중개사무소', '게재일', '제공플랫폼', '방향']\n",
        "for col in label_encode_cols:\n",
        "    le = LabelEncoder()\n",
        "    combined_data = pd.concat([train[col], test[col]], axis=0).astype(str)\n",
        "    le.fit(combined_data)\n",
        "    train[col] = le.transform(train[col].astype(str))\n",
        "    test[col] = le.transform(test[col].astype(str))"
      ]
    },
    {
      "cell_type": "code",
      "execution_count": 6,
      "metadata": {
        "id": "RLqIFoPgBakf"
      },
      "outputs": [],
      "source": [
        "# === 원-핫 인코딩 ===\n",
        "from sklearn.preprocessing import OneHotEncoder\n",
        "one_hot_cols = ['매물확인방식', '주차가능여부']\n",
        "one_hot_encoder = OneHotEncoder(handle_unknown='ignore')\n",
        "train_encoded = one_hot_encoder.fit_transform(train[one_hot_cols])\n",
        "test_encoded = one_hot_encoder.transform(test[one_hot_cols])\n",
        "train = pd.concat([train.drop(columns=one_hot_cols), pd.DataFrame(train_encoded, index=train.index)], axis=1)\n",
        "test = pd.concat([test.drop(columns=one_hot_cols), pd.DataFrame(test_encoded, index=test.index)], axis=1)"
      ]
    },
    {
      "cell_type": "code",
      "execution_count": 7,
      "metadata": {
        "id": "bklEzzE9Bakg"
      },
      "outputs": [],
      "source": [
        "# === ID 컬럼 제거 ===\n",
        "train = train.drop(columns=['ID'])\n",
        "test_id = test['ID']\n",
        "test = test.drop(columns=['ID'])"
      ]
    },
    {
      "cell_type": "code",
      "execution_count": 8,
      "metadata": {
        "colab": {
          "base_uri": "https://localhost:8080/"
        },
        "id": "ekDx6KF6Bakg",
        "outputId": "e2fc12f3-3990-4193-9a17-f9d98dbc1d2c"
      },
      "outputs": [
        {
          "output_type": "stream",
          "name": "stdout",
          "text": [
            "After SMOTE, X_sm shape: (4308, 13)\n",
            "After SMOTE, y_sm distribution:\n",
            " 허위매물여부\n",
            "0    2154\n",
            "1    2154\n",
            "Name: count, dtype: int64\n"
          ]
        }
      ],
      "source": [
        "# 데이터 분리\n",
        "X = train.drop(columns=['허위매물여부',0])\n",
        "y = train['허위매물여부']\n",
        "\n",
        "# 컬럼 이름을 문자열로 변환\n",
        "X.columns = X.columns.astype(str)\n",
        "\n",
        "# SMOTE로 데이터 증강\n",
        "smote = SMOTE(random_state=42)\n",
        "X_sm, y_sm = smote.fit_resample(X, y)\n",
        "\n",
        "# 확인\n",
        "print(\"After SMOTE, X_sm shape:\", X_sm.shape)\n",
        "print(\"After SMOTE, y_sm distribution:\\n\", pd.Series(y_sm).value_counts())\n"
      ]
    },
    {
      "cell_type": "code",
      "execution_count": 9,
      "metadata": {
        "id": "dDmekTjFBakg"
      },
      "outputs": [],
      "source": [
        "# === 사용자 정의 F1 평가 지표 ===\n",
        "def f1_metric(y_pred, data):\n",
        "    y_true = data.get_label()\n",
        "    y_pred_binary = (y_pred > 0.5).astype(int)\n",
        "    f1 = f1_score(y_true, y_pred_binary)\n",
        "    return 'f1', f1, True"
      ]
    },
    {
      "cell_type": "code",
      "execution_count": 10,
      "metadata": {
        "id": "IRB8dQPyBakh"
      },
      "outputs": [],
      "source": [
        "# === LightGBM 모델 학습 ===\n",
        "params = {\n",
        "    'objective': 'binary',\n",
        "    'boosting_type': 'gbdt',\n",
        "    'num_leaves': 31,\n",
        "    'learning_rate': 0.05,\n",
        "    'class_weight': 'balanced',\n",
        "    'seed': 42\n",
        "}"
      ]
    },
    {
      "cell_type": "code",
      "source": [
        "!pip install optuna"
      ],
      "metadata": {
        "colab": {
          "base_uri": "https://localhost:8080/"
        },
        "id": "bXfGe8GUBKc3",
        "outputId": "7125fe14-1708-4b7b-e5ae-1fd50c42e876"
      },
      "execution_count": 11,
      "outputs": [
        {
          "output_type": "stream",
          "name": "stdout",
          "text": [
            "Collecting optuna\n",
            "  Downloading optuna-4.2.0-py3-none-any.whl.metadata (17 kB)\n",
            "Collecting alembic>=1.5.0 (from optuna)\n",
            "  Downloading alembic-1.14.1-py3-none-any.whl.metadata (7.4 kB)\n",
            "Collecting colorlog (from optuna)\n",
            "  Downloading colorlog-6.9.0-py3-none-any.whl.metadata (10 kB)\n",
            "Requirement already satisfied: numpy in /usr/local/lib/python3.11/dist-packages (from optuna) (1.26.4)\n",
            "Requirement already satisfied: packaging>=20.0 in /usr/local/lib/python3.11/dist-packages (from optuna) (24.2)\n",
            "Requirement already satisfied: sqlalchemy>=1.4.2 in /usr/local/lib/python3.11/dist-packages (from optuna) (2.0.37)\n",
            "Requirement already satisfied: tqdm in /usr/local/lib/python3.11/dist-packages (from optuna) (4.67.1)\n",
            "Requirement already satisfied: PyYAML in /usr/local/lib/python3.11/dist-packages (from optuna) (6.0.2)\n",
            "Collecting Mako (from alembic>=1.5.0->optuna)\n",
            "  Downloading Mako-1.3.9-py3-none-any.whl.metadata (2.9 kB)\n",
            "Requirement already satisfied: typing-extensions>=4 in /usr/local/lib/python3.11/dist-packages (from alembic>=1.5.0->optuna) (4.12.2)\n",
            "Requirement already satisfied: greenlet!=0.4.17 in /usr/local/lib/python3.11/dist-packages (from sqlalchemy>=1.4.2->optuna) (3.1.1)\n",
            "Requirement already satisfied: MarkupSafe>=0.9.2 in /usr/local/lib/python3.11/dist-packages (from Mako->alembic>=1.5.0->optuna) (3.0.2)\n",
            "Downloading optuna-4.2.0-py3-none-any.whl (383 kB)\n",
            "\u001b[2K   \u001b[90m━━━━━━━━━━━━━━━━━━━━━━━━━━━━━━━━━━━━━━━━\u001b[0m \u001b[32m383.4/383.4 kB\u001b[0m \u001b[31m8.5 MB/s\u001b[0m eta \u001b[36m0:00:00\u001b[0m\n",
            "\u001b[?25hDownloading alembic-1.14.1-py3-none-any.whl (233 kB)\n",
            "\u001b[2K   \u001b[90m━━━━━━━━━━━━━━━━━━━━━━━━━━━━━━━━━━━━━━━━\u001b[0m \u001b[32m233.6/233.6 kB\u001b[0m \u001b[31m15.5 MB/s\u001b[0m eta \u001b[36m0:00:00\u001b[0m\n",
            "\u001b[?25hDownloading colorlog-6.9.0-py3-none-any.whl (11 kB)\n",
            "Downloading Mako-1.3.9-py3-none-any.whl (78 kB)\n",
            "\u001b[2K   \u001b[90m━━━━━━━━━━━━━━━━━━━━━━━━━━━━━━━━━━━━━━━━\u001b[0m \u001b[32m78.5/78.5 kB\u001b[0m \u001b[31m5.6 MB/s\u001b[0m eta \u001b[36m0:00:00\u001b[0m\n",
            "\u001b[?25hInstalling collected packages: Mako, colorlog, alembic, optuna\n",
            "Successfully installed Mako-1.3.9 alembic-1.14.1 colorlog-6.9.0 optuna-4.2.0\n"
          ]
        }
      ]
    },
    {
      "cell_type": "code",
      "source": [
        "import optuna\n",
        "from sklearn.metrics import f1_score\n",
        "\n",
        "def objective(trial):\n",
        "    # 하이퍼파라미터 튜닝\n",
        "    params = {\n",
        "        'objective': 'binary',\n",
        "        'boosting_type': 'gbdt',\n",
        "        'num_leaves': trial.suggest_int('num_leaves', 16, 256),\n",
        "        'learning_rate': trial.suggest_loguniform('learning_rate', 0.01, 0.1),\n",
        "        'max_depth': trial.suggest_int('max_depth', 3, 12),\n",
        "        'feature_fraction': trial.suggest_uniform('feature_fraction', 0.6, 0.9),\n",
        "        'bagging_fraction': trial.suggest_uniform('bagging_fraction', 0.7, 0.9),\n",
        "        'lambda_l1': trial.suggest_loguniform('lambda_l1', 1e-3, 10.0),\n",
        "        'lambda_l2': trial.suggest_loguniform('lambda_l2', 1e-3, 10.0),\n",
        "        'min_data_in_leaf': trial.suggest_int('min_data_in_leaf', 10, 100),\n",
        "        'seed': 42,\n",
        "        'class_weight': 'balanced',\n",
        "        'metric': 'f1',\n",
        "        'verbose': -1\n",
        "    }\n",
        "\n",
        "    skf = StratifiedKFold(n_splits=5, shuffle=True, random_state=42)\n",
        "    oof_preds = np.zeros(len(X_sm))\n",
        "\n",
        "    for fold, (train_idx, val_idx) in enumerate(skf.split(X_sm, y_sm)):\n",
        "        X_train, X_val = X_sm.iloc[train_idx], X_sm.iloc[val_idx]\n",
        "        y_train, y_val = y_sm.iloc[train_idx], y_sm.iloc[val_idx]\n",
        "\n",
        "        train_data = lgb.Dataset(X_train, label=y_train)\n",
        "        val_data = lgb.Dataset(X_val, label=y_val)\n",
        "\n",
        "        # 콜백으로 early stopping 설정\n",
        "        callbacks = [\n",
        "            lgb.early_stopping(stopping_rounds=50),\n",
        "            lgb.log_evaluation(0)  # 로그 출력을 최소화\n",
        "        ]\n",
        "\n",
        "        model = lgb.train(\n",
        "            params,\n",
        "            train_data,\n",
        "            valid_sets=[val_data],\n",
        "            feval=f1_metric,  # 사용자 정의 F1 평가 함수\n",
        "            num_boost_round=500,\n",
        "            callbacks=callbacks\n",
        "        )\n",
        "\n",
        "        # 예측 저장\n",
        "        oof_preds[val_idx] = model.predict(X_val)\n",
        "\n",
        "    f1 = f1_score(y_sm, (oof_preds > 0.5).astype(int))\n",
        "    return f1\n",
        "\n",
        "# Optuna 실행\n",
        "study = optuna.create_study(direction=\"maximize\")\n",
        "study.optimize(objective, n_trials=50)\n",
        "\n",
        "# 최적 하이퍼파라미터 출력\n",
        "print(\"Best parameters:\", study.best_params)"
      ],
      "metadata": {
        "colab": {
          "base_uri": "https://localhost:8080/"
        },
        "id": "waTqo8AeCIVf",
        "outputId": "48bf655f-3968-4241-ae7d-27a657162e37"
      },
      "execution_count": 13,
      "outputs": [
        {
          "output_type": "stream",
          "name": "stderr",
          "text": [
            "[I 2025-02-09 14:06:44,413] A new study created in memory with name: no-name-0b9fd423-2ae6-4e64-854d-ed33a6a7360a\n",
            "<ipython-input-13-24a02e8ae29f>:10: FutureWarning: suggest_loguniform has been deprecated in v3.0.0. This feature will be removed in v6.0.0. See https://github.com/optuna/optuna/releases/tag/v3.0.0. Use suggest_float(..., log=True) instead.\n",
            "  'learning_rate': trial.suggest_loguniform('learning_rate', 0.01, 0.1),\n",
            "<ipython-input-13-24a02e8ae29f>:12: FutureWarning: suggest_uniform has been deprecated in v3.0.0. This feature will be removed in v6.0.0. See https://github.com/optuna/optuna/releases/tag/v3.0.0. Use suggest_float instead.\n",
            "  'feature_fraction': trial.suggest_uniform('feature_fraction', 0.6, 0.9),\n",
            "<ipython-input-13-24a02e8ae29f>:13: FutureWarning: suggest_uniform has been deprecated in v3.0.0. This feature will be removed in v6.0.0. See https://github.com/optuna/optuna/releases/tag/v3.0.0. Use suggest_float instead.\n",
            "  'bagging_fraction': trial.suggest_uniform('bagging_fraction', 0.7, 0.9),\n",
            "<ipython-input-13-24a02e8ae29f>:14: FutureWarning: suggest_loguniform has been deprecated in v3.0.0. This feature will be removed in v6.0.0. See https://github.com/optuna/optuna/releases/tag/v3.0.0. Use suggest_float(..., log=True) instead.\n",
            "  'lambda_l1': trial.suggest_loguniform('lambda_l1', 1e-3, 10.0),\n",
            "<ipython-input-13-24a02e8ae29f>:15: FutureWarning: suggest_loguniform has been deprecated in v3.0.0. This feature will be removed in v6.0.0. See https://github.com/optuna/optuna/releases/tag/v3.0.0. Use suggest_float(..., log=True) instead.\n",
            "  'lambda_l2': trial.suggest_loguniform('lambda_l2', 1e-3, 10.0),\n"
          ]
        },
        {
          "output_type": "stream",
          "name": "stdout",
          "text": [
            "Training until validation scores don't improve for 50 rounds\n",
            "Early stopping, best iteration is:\n",
            "[16]\tvalid_0's f1: 0.927336\n",
            "Training until validation scores don't improve for 50 rounds\n",
            "Early stopping, best iteration is:\n",
            "[416]\tvalid_0's f1: 0.973654\n",
            "Training until validation scores don't improve for 50 rounds\n",
            "Early stopping, best iteration is:\n",
            "[278]\tvalid_0's f1: 0.961276\n",
            "Training until validation scores don't improve for 50 rounds\n",
            "Early stopping, best iteration is:\n",
            "[88]\tvalid_0's f1: 0.951724\n",
            "Training until validation scores don't improve for 50 rounds\n"
          ]
        },
        {
          "output_type": "stream",
          "name": "stderr",
          "text": [
            "[I 2025-02-09 14:06:56,225] Trial 0 finished with value: 0.955285484980509 and parameters: {'num_leaves': 29, 'learning_rate': 0.016165118396018432, 'max_depth': 9, 'feature_fraction': 0.8949608027899466, 'bagging_fraction': 0.8329742890778338, 'lambda_l1': 2.07891742670705, 'lambda_l2': 0.01609454749456613, 'min_data_in_leaf': 18}. Best is trial 0 with value: 0.955285484980509.\n"
          ]
        },
        {
          "output_type": "stream",
          "name": "stdout",
          "text": [
            "Early stopping, best iteration is:\n",
            "[292]\tvalid_0's f1: 0.962199\n",
            "Training until validation scores don't improve for 50 rounds\n"
          ]
        },
        {
          "output_type": "stream",
          "name": "stderr",
          "text": [
            "<ipython-input-13-24a02e8ae29f>:10: FutureWarning: suggest_loguniform has been deprecated in v3.0.0. This feature will be removed in v6.0.0. See https://github.com/optuna/optuna/releases/tag/v3.0.0. Use suggest_float(..., log=True) instead.\n",
            "  'learning_rate': trial.suggest_loguniform('learning_rate', 0.01, 0.1),\n",
            "<ipython-input-13-24a02e8ae29f>:12: FutureWarning: suggest_uniform has been deprecated in v3.0.0. This feature will be removed in v6.0.0. See https://github.com/optuna/optuna/releases/tag/v3.0.0. Use suggest_float instead.\n",
            "  'feature_fraction': trial.suggest_uniform('feature_fraction', 0.6, 0.9),\n",
            "<ipython-input-13-24a02e8ae29f>:13: FutureWarning: suggest_uniform has been deprecated in v3.0.0. This feature will be removed in v6.0.0. See https://github.com/optuna/optuna/releases/tag/v3.0.0. Use suggest_float instead.\n",
            "  'bagging_fraction': trial.suggest_uniform('bagging_fraction', 0.7, 0.9),\n",
            "<ipython-input-13-24a02e8ae29f>:14: FutureWarning: suggest_loguniform has been deprecated in v3.0.0. This feature will be removed in v6.0.0. See https://github.com/optuna/optuna/releases/tag/v3.0.0. Use suggest_float(..., log=True) instead.\n",
            "  'lambda_l1': trial.suggest_loguniform('lambda_l1', 1e-3, 10.0),\n",
            "<ipython-input-13-24a02e8ae29f>:15: FutureWarning: suggest_loguniform has been deprecated in v3.0.0. This feature will be removed in v6.0.0. See https://github.com/optuna/optuna/releases/tag/v3.0.0. Use suggest_float(..., log=True) instead.\n",
            "  'lambda_l2': trial.suggest_loguniform('lambda_l2', 1e-3, 10.0),\n"
          ]
        },
        {
          "output_type": "stream",
          "name": "stdout",
          "text": [
            "Early stopping, best iteration is:\n",
            "[272]\tvalid_0's f1: 0.970046\n",
            "Training until validation scores don't improve for 50 rounds\n",
            "Early stopping, best iteration is:\n",
            "[110]\tvalid_0's f1: 0.975945\n",
            "Training until validation scores don't improve for 50 rounds\n",
            "Early stopping, best iteration is:\n",
            "[113]\tvalid_0's f1: 0.963387\n",
            "Training until validation scores don't improve for 50 rounds\n",
            "Early stopping, best iteration is:\n",
            "[103]\tvalid_0's f1: 0.973533\n",
            "Training until validation scores don't improve for 50 rounds\n"
          ]
        },
        {
          "output_type": "stream",
          "name": "stderr",
          "text": [
            "[I 2025-02-09 14:07:03,399] Trial 1 finished with value: 0.9717306366352563 and parameters: {'num_leaves': 87, 'learning_rate': 0.08490941351057034, 'max_depth': 8, 'feature_fraction': 0.7572767867148894, 'bagging_fraction': 0.8180920245338196, 'lambda_l1': 0.22651658415285988, 'lambda_l2': 0.0010287161546252432, 'min_data_in_leaf': 67}. Best is trial 1 with value: 0.9717306366352563.\n"
          ]
        },
        {
          "output_type": "stream",
          "name": "stdout",
          "text": [
            "Early stopping, best iteration is:\n",
            "[203]\tvalid_0's f1: 0.975779\n",
            "Training until validation scores don't improve for 50 rounds\n"
          ]
        },
        {
          "output_type": "stream",
          "name": "stderr",
          "text": [
            "<ipython-input-13-24a02e8ae29f>:10: FutureWarning: suggest_loguniform has been deprecated in v3.0.0. This feature will be removed in v6.0.0. See https://github.com/optuna/optuna/releases/tag/v3.0.0. Use suggest_float(..., log=True) instead.\n",
            "  'learning_rate': trial.suggest_loguniform('learning_rate', 0.01, 0.1),\n",
            "<ipython-input-13-24a02e8ae29f>:12: FutureWarning: suggest_uniform has been deprecated in v3.0.0. This feature will be removed in v6.0.0. See https://github.com/optuna/optuna/releases/tag/v3.0.0. Use suggest_float instead.\n",
            "  'feature_fraction': trial.suggest_uniform('feature_fraction', 0.6, 0.9),\n",
            "<ipython-input-13-24a02e8ae29f>:13: FutureWarning: suggest_uniform has been deprecated in v3.0.0. This feature will be removed in v6.0.0. See https://github.com/optuna/optuna/releases/tag/v3.0.0. Use suggest_float instead.\n",
            "  'bagging_fraction': trial.suggest_uniform('bagging_fraction', 0.7, 0.9),\n",
            "<ipython-input-13-24a02e8ae29f>:14: FutureWarning: suggest_loguniform has been deprecated in v3.0.0. This feature will be removed in v6.0.0. See https://github.com/optuna/optuna/releases/tag/v3.0.0. Use suggest_float(..., log=True) instead.\n",
            "  'lambda_l1': trial.suggest_loguniform('lambda_l1', 1e-3, 10.0),\n",
            "<ipython-input-13-24a02e8ae29f>:15: FutureWarning: suggest_loguniform has been deprecated in v3.0.0. This feature will be removed in v6.0.0. See https://github.com/optuna/optuna/releases/tag/v3.0.0. Use suggest_float(..., log=True) instead.\n",
            "  'lambda_l2': trial.suggest_loguniform('lambda_l2', 1e-3, 10.0),\n"
          ]
        },
        {
          "output_type": "stream",
          "name": "stdout",
          "text": [
            "Did not meet early stopping. Best iteration is:\n",
            "[491]\tvalid_0's f1: 0.960829\n",
            "Training until validation scores don't improve for 50 rounds\n",
            "Early stopping, best iteration is:\n",
            "[406]\tvalid_0's f1: 0.969283\n",
            "Training until validation scores don't improve for 50 rounds\n",
            "Early stopping, best iteration is:\n",
            "[22]\tvalid_0's f1: 0.93929\n",
            "Training until validation scores don't improve for 50 rounds\n",
            "Early stopping, best iteration is:\n",
            "[379]\tvalid_0's f1: 0.971165\n",
            "Training until validation scores don't improve for 50 rounds\n"
          ]
        },
        {
          "output_type": "stream",
          "name": "stderr",
          "text": [
            "[I 2025-02-09 14:07:08,985] Trial 2 finished with value: 0.9559228650137741 and parameters: {'num_leaves': 221, 'learning_rate': 0.018968586941482984, 'max_depth': 7, 'feature_fraction': 0.8497040592169971, 'bagging_fraction': 0.7157678765244057, 'lambda_l1': 0.21585265373905393, 'lambda_l2': 1.1213577384278839, 'min_data_in_leaf': 96}. Best is trial 1 with value: 0.9717306366352563.\n"
          ]
        },
        {
          "output_type": "stream",
          "name": "stdout",
          "text": [
            "Early stopping, best iteration is:\n",
            "[34]\tvalid_0's f1: 0.93901\n",
            "Training until validation scores don't improve for 50 rounds\n"
          ]
        },
        {
          "output_type": "stream",
          "name": "stderr",
          "text": [
            "<ipython-input-13-24a02e8ae29f>:10: FutureWarning: suggest_loguniform has been deprecated in v3.0.0. This feature will be removed in v6.0.0. See https://github.com/optuna/optuna/releases/tag/v3.0.0. Use suggest_float(..., log=True) instead.\n",
            "  'learning_rate': trial.suggest_loguniform('learning_rate', 0.01, 0.1),\n",
            "<ipython-input-13-24a02e8ae29f>:12: FutureWarning: suggest_uniform has been deprecated in v3.0.0. This feature will be removed in v6.0.0. See https://github.com/optuna/optuna/releases/tag/v3.0.0. Use suggest_float instead.\n",
            "  'feature_fraction': trial.suggest_uniform('feature_fraction', 0.6, 0.9),\n",
            "<ipython-input-13-24a02e8ae29f>:13: FutureWarning: suggest_uniform has been deprecated in v3.0.0. This feature will be removed in v6.0.0. See https://github.com/optuna/optuna/releases/tag/v3.0.0. Use suggest_float instead.\n",
            "  'bagging_fraction': trial.suggest_uniform('bagging_fraction', 0.7, 0.9),\n",
            "<ipython-input-13-24a02e8ae29f>:14: FutureWarning: suggest_loguniform has been deprecated in v3.0.0. This feature will be removed in v6.0.0. See https://github.com/optuna/optuna/releases/tag/v3.0.0. Use suggest_float(..., log=True) instead.\n",
            "  'lambda_l1': trial.suggest_loguniform('lambda_l1', 1e-3, 10.0),\n",
            "<ipython-input-13-24a02e8ae29f>:15: FutureWarning: suggest_loguniform has been deprecated in v3.0.0. This feature will be removed in v6.0.0. See https://github.com/optuna/optuna/releases/tag/v3.0.0. Use suggest_float(..., log=True) instead.\n",
            "  'lambda_l2': trial.suggest_loguniform('lambda_l2', 1e-3, 10.0),\n"
          ]
        },
        {
          "output_type": "stream",
          "name": "stdout",
          "text": [
            "Early stopping, best iteration is:\n",
            "[180]\tvalid_0's f1: 0.948689\n",
            "Training until validation scores don't improve for 50 rounds\n",
            "Early stopping, best iteration is:\n",
            "[219]\tvalid_0's f1: 0.967008\n",
            "Training until validation scores don't improve for 50 rounds\n",
            "Early stopping, best iteration is:\n",
            "[177]\tvalid_0's f1: 0.960091\n",
            "Training until validation scores don't improve for 50 rounds\n",
            "Early stopping, best iteration is:\n",
            "[192]\tvalid_0's f1: 0.970046\n",
            "Training until validation scores don't improve for 50 rounds\n"
          ]
        },
        {
          "output_type": "stream",
          "name": "stderr",
          "text": [
            "[I 2025-02-09 14:07:12,897] Trial 3 finished with value: 0.9635905656056789 and parameters: {'num_leaves': 95, 'learning_rate': 0.0695632972745006, 'max_depth': 3, 'feature_fraction': 0.6437033965850911, 'bagging_fraction': 0.7808035477727988, 'lambda_l1': 0.0025753157359053244, 'lambda_l2': 0.48837193959636727, 'min_data_in_leaf': 59}. Best is trial 1 with value: 0.9717306366352563.\n"
          ]
        },
        {
          "output_type": "stream",
          "name": "stdout",
          "text": [
            "Early stopping, best iteration is:\n",
            "[209]\tvalid_0's f1: 0.972286\n"
          ]
        },
        {
          "output_type": "stream",
          "name": "stderr",
          "text": [
            "<ipython-input-13-24a02e8ae29f>:10: FutureWarning: suggest_loguniform has been deprecated in v3.0.0. This feature will be removed in v6.0.0. See https://github.com/optuna/optuna/releases/tag/v3.0.0. Use suggest_float(..., log=True) instead.\n",
            "  'learning_rate': trial.suggest_loguniform('learning_rate', 0.01, 0.1),\n",
            "<ipython-input-13-24a02e8ae29f>:12: FutureWarning: suggest_uniform has been deprecated in v3.0.0. This feature will be removed in v6.0.0. See https://github.com/optuna/optuna/releases/tag/v3.0.0. Use suggest_float instead.\n",
            "  'feature_fraction': trial.suggest_uniform('feature_fraction', 0.6, 0.9),\n",
            "<ipython-input-13-24a02e8ae29f>:13: FutureWarning: suggest_uniform has been deprecated in v3.0.0. This feature will be removed in v6.0.0. See https://github.com/optuna/optuna/releases/tag/v3.0.0. Use suggest_float instead.\n",
            "  'bagging_fraction': trial.suggest_uniform('bagging_fraction', 0.7, 0.9),\n",
            "<ipython-input-13-24a02e8ae29f>:14: FutureWarning: suggest_loguniform has been deprecated in v3.0.0. This feature will be removed in v6.0.0. See https://github.com/optuna/optuna/releases/tag/v3.0.0. Use suggest_float(..., log=True) instead.\n",
            "  'lambda_l1': trial.suggest_loguniform('lambda_l1', 1e-3, 10.0),\n",
            "<ipython-input-13-24a02e8ae29f>:15: FutureWarning: suggest_loguniform has been deprecated in v3.0.0. This feature will be removed in v6.0.0. See https://github.com/optuna/optuna/releases/tag/v3.0.0. Use suggest_float(..., log=True) instead.\n",
            "  'lambda_l2': trial.suggest_loguniform('lambda_l2', 1e-3, 10.0),\n"
          ]
        },
        {
          "output_type": "stream",
          "name": "stdout",
          "text": [
            "Training until validation scores don't improve for 50 rounds\n",
            "Early stopping, best iteration is:\n",
            "[408]\tvalid_0's f1: 0.954023\n",
            "Training until validation scores don't improve for 50 rounds\n",
            "Early stopping, best iteration is:\n",
            "[8]\tvalid_0's f1: 0.920273\n",
            "Training until validation scores don't improve for 50 rounds\n",
            "Did not meet early stopping. Best iteration is:\n",
            "[466]\tvalid_0's f1: 0.961009\n",
            "Training until validation scores don't improve for 50 rounds\n",
            "Early stopping, best iteration is:\n",
            "[8]\tvalid_0's f1: 0.925795\n",
            "Training until validation scores don't improve for 50 rounds\n"
          ]
        },
        {
          "output_type": "stream",
          "name": "stderr",
          "text": [
            "[I 2025-02-09 14:07:20,609] Trial 4 finished with value: 0.9403088269186448 and parameters: {'num_leaves': 209, 'learning_rate': 0.012666022037329357, 'max_depth': 12, 'feature_fraction': 0.8700822149121413, 'bagging_fraction': 0.8019698603724664, 'lambda_l1': 0.0048743794634936825, 'lambda_l2': 0.14711622516015355, 'min_data_in_leaf': 95}. Best is trial 1 with value: 0.9717306366352563.\n"
          ]
        },
        {
          "output_type": "stream",
          "name": "stdout",
          "text": [
            "Early stopping, best iteration is:\n",
            "[47]\tvalid_0's f1: 0.94023\n",
            "Training until validation scores don't improve for 50 rounds\n"
          ]
        },
        {
          "output_type": "stream",
          "name": "stderr",
          "text": [
            "<ipython-input-13-24a02e8ae29f>:10: FutureWarning: suggest_loguniform has been deprecated in v3.0.0. This feature will be removed in v6.0.0. See https://github.com/optuna/optuna/releases/tag/v3.0.0. Use suggest_float(..., log=True) instead.\n",
            "  'learning_rate': trial.suggest_loguniform('learning_rate', 0.01, 0.1),\n",
            "<ipython-input-13-24a02e8ae29f>:12: FutureWarning: suggest_uniform has been deprecated in v3.0.0. This feature will be removed in v6.0.0. See https://github.com/optuna/optuna/releases/tag/v3.0.0. Use suggest_float instead.\n",
            "  'feature_fraction': trial.suggest_uniform('feature_fraction', 0.6, 0.9),\n",
            "<ipython-input-13-24a02e8ae29f>:13: FutureWarning: suggest_uniform has been deprecated in v3.0.0. This feature will be removed in v6.0.0. See https://github.com/optuna/optuna/releases/tag/v3.0.0. Use suggest_float instead.\n",
            "  'bagging_fraction': trial.suggest_uniform('bagging_fraction', 0.7, 0.9),\n",
            "<ipython-input-13-24a02e8ae29f>:14: FutureWarning: suggest_loguniform has been deprecated in v3.0.0. This feature will be removed in v6.0.0. See https://github.com/optuna/optuna/releases/tag/v3.0.0. Use suggest_float(..., log=True) instead.\n",
            "  'lambda_l1': trial.suggest_loguniform('lambda_l1', 1e-3, 10.0),\n",
            "<ipython-input-13-24a02e8ae29f>:15: FutureWarning: suggest_loguniform has been deprecated in v3.0.0. This feature will be removed in v6.0.0. See https://github.com/optuna/optuna/releases/tag/v3.0.0. Use suggest_float(..., log=True) instead.\n",
            "  'lambda_l2': trial.suggest_loguniform('lambda_l2', 1e-3, 10.0),\n"
          ]
        },
        {
          "output_type": "stream",
          "name": "stdout",
          "text": [
            "Early stopping, best iteration is:\n",
            "[242]\tvalid_0's f1: 0.959908\n",
            "Training until validation scores don't improve for 50 rounds\n",
            "Early stopping, best iteration is:\n",
            "[221]\tvalid_0's f1: 0.974771\n",
            "Training until validation scores don't improve for 50 rounds\n",
            "Early stopping, best iteration is:\n",
            "[215]\tvalid_0's f1: 0.972414\n",
            "Training until validation scores don't improve for 50 rounds\n",
            "Early stopping, best iteration is:\n",
            "[183]\tvalid_0's f1: 0.976905\n",
            "Training until validation scores don't improve for 50 rounds\n"
          ]
        },
        {
          "output_type": "stream",
          "name": "stderr",
          "text": [
            "[I 2025-02-09 14:07:24,959] Trial 5 finished with value: 0.9717176362382157 and parameters: {'num_leaves': 58, 'learning_rate': 0.07676914280997443, 'max_depth': 4, 'feature_fraction': 0.7679361165662909, 'bagging_fraction': 0.8588742576249934, 'lambda_l1': 0.0011292833623870468, 'lambda_l2': 0.3635091249686294, 'min_data_in_leaf': 14}. Best is trial 1 with value: 0.9717306366352563.\n"
          ]
        },
        {
          "output_type": "stream",
          "name": "stdout",
          "text": [
            "Early stopping, best iteration is:\n",
            "[164]\tvalid_0's f1: 0.974654\n",
            "Training until validation scores don't improve for 50 rounds\n"
          ]
        },
        {
          "output_type": "stream",
          "name": "stderr",
          "text": [
            "<ipython-input-13-24a02e8ae29f>:10: FutureWarning: suggest_loguniform has been deprecated in v3.0.0. This feature will be removed in v6.0.0. See https://github.com/optuna/optuna/releases/tag/v3.0.0. Use suggest_float(..., log=True) instead.\n",
            "  'learning_rate': trial.suggest_loguniform('learning_rate', 0.01, 0.1),\n",
            "<ipython-input-13-24a02e8ae29f>:12: FutureWarning: suggest_uniform has been deprecated in v3.0.0. This feature will be removed in v6.0.0. See https://github.com/optuna/optuna/releases/tag/v3.0.0. Use suggest_float instead.\n",
            "  'feature_fraction': trial.suggest_uniform('feature_fraction', 0.6, 0.9),\n",
            "<ipython-input-13-24a02e8ae29f>:13: FutureWarning: suggest_uniform has been deprecated in v3.0.0. This feature will be removed in v6.0.0. See https://github.com/optuna/optuna/releases/tag/v3.0.0. Use suggest_float instead.\n",
            "  'bagging_fraction': trial.suggest_uniform('bagging_fraction', 0.7, 0.9),\n",
            "<ipython-input-13-24a02e8ae29f>:14: FutureWarning: suggest_loguniform has been deprecated in v3.0.0. This feature will be removed in v6.0.0. See https://github.com/optuna/optuna/releases/tag/v3.0.0. Use suggest_float(..., log=True) instead.\n",
            "  'lambda_l1': trial.suggest_loguniform('lambda_l1', 1e-3, 10.0),\n",
            "<ipython-input-13-24a02e8ae29f>:15: FutureWarning: suggest_loguniform has been deprecated in v3.0.0. This feature will be removed in v6.0.0. See https://github.com/optuna/optuna/releases/tag/v3.0.0. Use suggest_float(..., log=True) instead.\n",
            "  'lambda_l2': trial.suggest_loguniform('lambda_l2', 1e-3, 10.0),\n"
          ]
        },
        {
          "output_type": "stream",
          "name": "stdout",
          "text": [
            "Early stopping, best iteration is:\n",
            "[72]\tvalid_0's f1: 0.934091\n",
            "Training until validation scores don't improve for 50 rounds\n",
            "Early stopping, best iteration is:\n",
            "[342]\tvalid_0's f1: 0.978236\n",
            "Training until validation scores don't improve for 50 rounds\n",
            "Early stopping, best iteration is:\n",
            "[253]\tvalid_0's f1: 0.963303\n",
            "Training until validation scores don't improve for 50 rounds\n",
            "Early stopping, best iteration is:\n",
            "[243]\tvalid_0's f1: 0.968858\n",
            "Training until validation scores don't improve for 50 rounds\n"
          ]
        },
        {
          "output_type": "stream",
          "name": "stderr",
          "text": [
            "[I 2025-02-09 14:07:33,708] Trial 6 finished with value: 0.9635571854228742 and parameters: {'num_leaves': 212, 'learning_rate': 0.032298457390764944, 'max_depth': 9, 'feature_fraction': 0.8122723985146112, 'bagging_fraction': 0.856983082024817, 'lambda_l1': 0.18948389587390274, 'lambda_l2': 4.0640320113942785, 'min_data_in_leaf': 67}. Best is trial 1 with value: 0.9717306366352563.\n"
          ]
        },
        {
          "output_type": "stream",
          "name": "stdout",
          "text": [
            "Early stopping, best iteration is:\n",
            "[342]\tvalid_0's f1: 0.973594\n",
            "Training until validation scores don't improve for 50 rounds\n"
          ]
        },
        {
          "output_type": "stream",
          "name": "stderr",
          "text": [
            "<ipython-input-13-24a02e8ae29f>:10: FutureWarning: suggest_loguniform has been deprecated in v3.0.0. This feature will be removed in v6.0.0. See https://github.com/optuna/optuna/releases/tag/v3.0.0. Use suggest_float(..., log=True) instead.\n",
            "  'learning_rate': trial.suggest_loguniform('learning_rate', 0.01, 0.1),\n",
            "<ipython-input-13-24a02e8ae29f>:12: FutureWarning: suggest_uniform has been deprecated in v3.0.0. This feature will be removed in v6.0.0. See https://github.com/optuna/optuna/releases/tag/v3.0.0. Use suggest_float instead.\n",
            "  'feature_fraction': trial.suggest_uniform('feature_fraction', 0.6, 0.9),\n",
            "<ipython-input-13-24a02e8ae29f>:13: FutureWarning: suggest_uniform has been deprecated in v3.0.0. This feature will be removed in v6.0.0. See https://github.com/optuna/optuna/releases/tag/v3.0.0. Use suggest_float instead.\n",
            "  'bagging_fraction': trial.suggest_uniform('bagging_fraction', 0.7, 0.9),\n",
            "<ipython-input-13-24a02e8ae29f>:14: FutureWarning: suggest_loguniform has been deprecated in v3.0.0. This feature will be removed in v6.0.0. See https://github.com/optuna/optuna/releases/tag/v3.0.0. Use suggest_float(..., log=True) instead.\n",
            "  'lambda_l1': trial.suggest_loguniform('lambda_l1', 1e-3, 10.0),\n",
            "<ipython-input-13-24a02e8ae29f>:15: FutureWarning: suggest_loguniform has been deprecated in v3.0.0. This feature will be removed in v6.0.0. See https://github.com/optuna/optuna/releases/tag/v3.0.0. Use suggest_float(..., log=True) instead.\n",
            "  'lambda_l2': trial.suggest_loguniform('lambda_l2', 1e-3, 10.0),\n"
          ]
        },
        {
          "output_type": "stream",
          "name": "stdout",
          "text": [
            "Early stopping, best iteration is:\n",
            "[1]\tvalid_0's f1: 0.925544\n",
            "Training until validation scores don't improve for 50 rounds\n",
            "Early stopping, best iteration is:\n",
            "[320]\tvalid_0's f1: 0.970455\n",
            "Training until validation scores don't improve for 50 rounds\n",
            "Early stopping, best iteration is:\n",
            "[365]\tvalid_0's f1: 0.963303\n",
            "Training until validation scores don't improve for 50 rounds\n",
            "Early stopping, best iteration is:\n",
            "[297]\tvalid_0's f1: 0.969001\n",
            "Training until validation scores don't improve for 50 rounds\n"
          ]
        },
        {
          "output_type": "stream",
          "name": "stderr",
          "text": [
            "[I 2025-02-09 14:07:38,599] Trial 7 finished with value: 0.953796889295517 and parameters: {'num_leaves': 220, 'learning_rate': 0.016096370991637746, 'max_depth': 8, 'feature_fraction': 0.8091412621134858, 'bagging_fraction': 0.7913921782453222, 'lambda_l1': 0.0053682674732941, 'lambda_l2': 0.028838674809432675, 'min_data_in_leaf': 76}. Best is trial 1 with value: 0.9717306366352563.\n"
          ]
        },
        {
          "output_type": "stream",
          "name": "stdout",
          "text": [
            "Early stopping, best iteration is:\n",
            "[17]\tvalid_0's f1: 0.940639\n",
            "Training until validation scores don't improve for 50 rounds\n"
          ]
        },
        {
          "output_type": "stream",
          "name": "stderr",
          "text": [
            "<ipython-input-13-24a02e8ae29f>:10: FutureWarning: suggest_loguniform has been deprecated in v3.0.0. This feature will be removed in v6.0.0. See https://github.com/optuna/optuna/releases/tag/v3.0.0. Use suggest_float(..., log=True) instead.\n",
            "  'learning_rate': trial.suggest_loguniform('learning_rate', 0.01, 0.1),\n",
            "<ipython-input-13-24a02e8ae29f>:12: FutureWarning: suggest_uniform has been deprecated in v3.0.0. This feature will be removed in v6.0.0. See https://github.com/optuna/optuna/releases/tag/v3.0.0. Use suggest_float instead.\n",
            "  'feature_fraction': trial.suggest_uniform('feature_fraction', 0.6, 0.9),\n",
            "<ipython-input-13-24a02e8ae29f>:13: FutureWarning: suggest_uniform has been deprecated in v3.0.0. This feature will be removed in v6.0.0. See https://github.com/optuna/optuna/releases/tag/v3.0.0. Use suggest_float instead.\n",
            "  'bagging_fraction': trial.suggest_uniform('bagging_fraction', 0.7, 0.9),\n",
            "<ipython-input-13-24a02e8ae29f>:14: FutureWarning: suggest_loguniform has been deprecated in v3.0.0. This feature will be removed in v6.0.0. See https://github.com/optuna/optuna/releases/tag/v3.0.0. Use suggest_float(..., log=True) instead.\n",
            "  'lambda_l1': trial.suggest_loguniform('lambda_l1', 1e-3, 10.0),\n",
            "<ipython-input-13-24a02e8ae29f>:15: FutureWarning: suggest_loguniform has been deprecated in v3.0.0. This feature will be removed in v6.0.0. See https://github.com/optuna/optuna/releases/tag/v3.0.0. Use suggest_float(..., log=True) instead.\n",
            "  'lambda_l2': trial.suggest_loguniform('lambda_l2', 1e-3, 10.0),\n"
          ]
        },
        {
          "output_type": "stream",
          "name": "stdout",
          "text": [
            "Early stopping, best iteration is:\n",
            "[315]\tvalid_0's f1: 0.964409\n",
            "Training until validation scores don't improve for 50 rounds\n",
            "Early stopping, best iteration is:\n",
            "[131]\tvalid_0's f1: 0.979358\n",
            "Training until validation scores don't improve for 50 rounds\n",
            "Early stopping, best iteration is:\n",
            "[146]\tvalid_0's f1: 0.96347\n",
            "Training until validation scores don't improve for 50 rounds\n",
            "Early stopping, best iteration is:\n",
            "[167]\tvalid_0's f1: 0.974654\n",
            "Training until validation scores don't improve for 50 rounds\n"
          ]
        },
        {
          "output_type": "stream",
          "name": "stderr",
          "text": [
            "[I 2025-02-09 14:07:46,639] Trial 8 finished with value: 0.970824718584884 and parameters: {'num_leaves': 70, 'learning_rate': 0.04728995387418958, 'max_depth': 10, 'feature_fraction': 0.838809685280036, 'bagging_fraction': 0.7401039257890228, 'lambda_l1': 0.0054645581588466585, 'lambda_l2': 0.047289565472579315, 'min_data_in_leaf': 50}. Best is trial 1 with value: 0.9717306366352563.\n"
          ]
        },
        {
          "output_type": "stream",
          "name": "stdout",
          "text": [
            "Early stopping, best iteration is:\n",
            "[188]\tvalid_0's f1: 0.972286\n",
            "Training until validation scores don't improve for 50 rounds\n"
          ]
        },
        {
          "output_type": "stream",
          "name": "stderr",
          "text": [
            "<ipython-input-13-24a02e8ae29f>:10: FutureWarning: suggest_loguniform has been deprecated in v3.0.0. This feature will be removed in v6.0.0. See https://github.com/optuna/optuna/releases/tag/v3.0.0. Use suggest_float(..., log=True) instead.\n",
            "  'learning_rate': trial.suggest_loguniform('learning_rate', 0.01, 0.1),\n",
            "<ipython-input-13-24a02e8ae29f>:12: FutureWarning: suggest_uniform has been deprecated in v3.0.0. This feature will be removed in v6.0.0. See https://github.com/optuna/optuna/releases/tag/v3.0.0. Use suggest_float instead.\n",
            "  'feature_fraction': trial.suggest_uniform('feature_fraction', 0.6, 0.9),\n",
            "<ipython-input-13-24a02e8ae29f>:13: FutureWarning: suggest_uniform has been deprecated in v3.0.0. This feature will be removed in v6.0.0. See https://github.com/optuna/optuna/releases/tag/v3.0.0. Use suggest_float instead.\n",
            "  'bagging_fraction': trial.suggest_uniform('bagging_fraction', 0.7, 0.9),\n",
            "<ipython-input-13-24a02e8ae29f>:14: FutureWarning: suggest_loguniform has been deprecated in v3.0.0. This feature will be removed in v6.0.0. See https://github.com/optuna/optuna/releases/tag/v3.0.0. Use suggest_float(..., log=True) instead.\n",
            "  'lambda_l1': trial.suggest_loguniform('lambda_l1', 1e-3, 10.0),\n",
            "<ipython-input-13-24a02e8ae29f>:15: FutureWarning: suggest_loguniform has been deprecated in v3.0.0. This feature will be removed in v6.0.0. See https://github.com/optuna/optuna/releases/tag/v3.0.0. Use suggest_float(..., log=True) instead.\n",
            "  'lambda_l2': trial.suggest_loguniform('lambda_l2', 1e-3, 10.0),\n"
          ]
        },
        {
          "output_type": "stream",
          "name": "stdout",
          "text": [
            "Early stopping, best iteration is:\n",
            "[67]\tvalid_0's f1: 0.936073\n",
            "Training until validation scores don't improve for 50 rounds\n",
            "Early stopping, best iteration is:\n",
            "[185]\tvalid_0's f1: 0.965909\n",
            "Training until validation scores don't improve for 50 rounds\n",
            "Early stopping, best iteration is:\n",
            "[245]\tvalid_0's f1: 0.966705\n",
            "Training until validation scores don't improve for 50 rounds\n",
            "Early stopping, best iteration is:\n",
            "[328]\tvalid_0's f1: 0.974596\n",
            "Training until validation scores don't improve for 50 rounds\n"
          ]
        },
        {
          "output_type": "stream",
          "name": "stderr",
          "text": [
            "[I 2025-02-09 14:07:50,345] Trial 9 finished with value: 0.9575785370327906 and parameters: {'num_leaves': 97, 'learning_rate': 0.0388732628802539, 'max_depth': 5, 'feature_fraction': 0.7017679555486215, 'bagging_fraction': 0.7779191826324636, 'lambda_l1': 0.0042218122785592565, 'lambda_l2': 5.4761532917842635, 'min_data_in_leaf': 84}. Best is trial 1 with value: 0.9717306366352563.\n"
          ]
        },
        {
          "output_type": "stream",
          "name": "stdout",
          "text": [
            "Early stopping, best iteration is:\n",
            "[17]\tvalid_0's f1: 0.9447\n",
            "Training until validation scores don't improve for 50 rounds\n"
          ]
        },
        {
          "output_type": "stream",
          "name": "stderr",
          "text": [
            "<ipython-input-13-24a02e8ae29f>:10: FutureWarning: suggest_loguniform has been deprecated in v3.0.0. This feature will be removed in v6.0.0. See https://github.com/optuna/optuna/releases/tag/v3.0.0. Use suggest_float(..., log=True) instead.\n",
            "  'learning_rate': trial.suggest_loguniform('learning_rate', 0.01, 0.1),\n",
            "<ipython-input-13-24a02e8ae29f>:12: FutureWarning: suggest_uniform has been deprecated in v3.0.0. This feature will be removed in v6.0.0. See https://github.com/optuna/optuna/releases/tag/v3.0.0. Use suggest_float instead.\n",
            "  'feature_fraction': trial.suggest_uniform('feature_fraction', 0.6, 0.9),\n",
            "<ipython-input-13-24a02e8ae29f>:13: FutureWarning: suggest_uniform has been deprecated in v3.0.0. This feature will be removed in v6.0.0. See https://github.com/optuna/optuna/releases/tag/v3.0.0. Use suggest_float instead.\n",
            "  'bagging_fraction': trial.suggest_uniform('bagging_fraction', 0.7, 0.9),\n",
            "<ipython-input-13-24a02e8ae29f>:14: FutureWarning: suggest_loguniform has been deprecated in v3.0.0. This feature will be removed in v6.0.0. See https://github.com/optuna/optuna/releases/tag/v3.0.0. Use suggest_float(..., log=True) instead.\n",
            "  'lambda_l1': trial.suggest_loguniform('lambda_l1', 1e-3, 10.0),\n",
            "<ipython-input-13-24a02e8ae29f>:15: FutureWarning: suggest_loguniform has been deprecated in v3.0.0. This feature will be removed in v6.0.0. See https://github.com/optuna/optuna/releases/tag/v3.0.0. Use suggest_float(..., log=True) instead.\n",
            "  'lambda_l2': trial.suggest_loguniform('lambda_l2', 1e-3, 10.0),\n"
          ]
        },
        {
          "output_type": "stream",
          "name": "stdout",
          "text": [
            "Early stopping, best iteration is:\n",
            "[192]\tvalid_0's f1: 0.962025\n",
            "Training until validation scores don't improve for 50 rounds\n",
            "Early stopping, best iteration is:\n",
            "[126]\tvalid_0's f1: 0.975945\n",
            "Training until validation scores don't improve for 50 rounds\n",
            "Early stopping, best iteration is:\n",
            "[162]\tvalid_0's f1: 0.967742\n",
            "Training until validation scores don't improve for 50 rounds\n",
            "Early stopping, best iteration is:\n",
            "[201]\tvalid_0's f1: 0.974478\n",
            "Training until validation scores don't improve for 50 rounds\n"
          ]
        },
        {
          "output_type": "stream",
          "name": "stderr",
          "text": [
            "[I 2025-02-09 14:07:54,396] Trial 10 finished with value: 0.9707575408703661 and parameters: {'num_leaves': 150, 'learning_rate': 0.08911897228513295, 'max_depth': 6, 'feature_fraction': 0.7119520353253465, 'bagging_fraction': 0.8840836391999831, 'lambda_l1': 1.8728119450641052, 'lambda_l2': 0.0016525610154666849, 'min_data_in_leaf': 43}. Best is trial 1 with value: 0.9717306366352563.\n"
          ]
        },
        {
          "output_type": "stream",
          "name": "stdout",
          "text": [
            "Early stopping, best iteration is:\n",
            "[197]\tvalid_0's f1: 0.973594\n",
            "Training until validation scores don't improve for 50 rounds\n"
          ]
        },
        {
          "output_type": "stream",
          "name": "stderr",
          "text": [
            "<ipython-input-13-24a02e8ae29f>:10: FutureWarning: suggest_loguniform has been deprecated in v3.0.0. This feature will be removed in v6.0.0. See https://github.com/optuna/optuna/releases/tag/v3.0.0. Use suggest_float(..., log=True) instead.\n",
            "  'learning_rate': trial.suggest_loguniform('learning_rate', 0.01, 0.1),\n",
            "<ipython-input-13-24a02e8ae29f>:12: FutureWarning: suggest_uniform has been deprecated in v3.0.0. This feature will be removed in v6.0.0. See https://github.com/optuna/optuna/releases/tag/v3.0.0. Use suggest_float instead.\n",
            "  'feature_fraction': trial.suggest_uniform('feature_fraction', 0.6, 0.9),\n",
            "<ipython-input-13-24a02e8ae29f>:13: FutureWarning: suggest_uniform has been deprecated in v3.0.0. This feature will be removed in v6.0.0. See https://github.com/optuna/optuna/releases/tag/v3.0.0. Use suggest_float instead.\n",
            "  'bagging_fraction': trial.suggest_uniform('bagging_fraction', 0.7, 0.9),\n",
            "<ipython-input-13-24a02e8ae29f>:14: FutureWarning: suggest_loguniform has been deprecated in v3.0.0. This feature will be removed in v6.0.0. See https://github.com/optuna/optuna/releases/tag/v3.0.0. Use suggest_float(..., log=True) instead.\n",
            "  'lambda_l1': trial.suggest_loguniform('lambda_l1', 1e-3, 10.0),\n",
            "<ipython-input-13-24a02e8ae29f>:15: FutureWarning: suggest_loguniform has been deprecated in v3.0.0. This feature will be removed in v6.0.0. See https://github.com/optuna/optuna/releases/tag/v3.0.0. Use suggest_float(..., log=True) instead.\n",
            "  'lambda_l2': trial.suggest_loguniform('lambda_l2', 1e-3, 10.0),\n"
          ]
        },
        {
          "output_type": "stream",
          "name": "stdout",
          "text": [
            "Early stopping, best iteration is:\n",
            "[269]\tvalid_0's f1: 0.953143\n",
            "Training until validation scores don't improve for 50 rounds\n",
            "Early stopping, best iteration is:\n",
            "[215]\tvalid_0's f1: 0.969283\n",
            "Training until validation scores don't improve for 50 rounds\n",
            "Early stopping, best iteration is:\n",
            "[258]\tvalid_0's f1: 0.96449\n",
            "Training until validation scores don't improve for 50 rounds\n",
            "Early stopping, best iteration is:\n",
            "[170]\tvalid_0's f1: 0.966628\n",
            "Training until validation scores don't improve for 50 rounds\n"
          ]
        },
        {
          "output_type": "stream",
          "name": "stderr",
          "text": [
            "[I 2025-02-09 14:08:02,740] Trial 11 finished with value: 0.9658335244210043 and parameters: {'num_leaves': 18, 'learning_rate': 0.06181535587497772, 'max_depth': 3, 'feature_fraction': 0.7633785342242433, 'bagging_fraction': 0.8988152166861014, 'lambda_l1': 0.04082478554878233, 'lambda_l2': 0.001217674915904468, 'min_data_in_leaf': 14}. Best is trial 1 with value: 0.9717306366352563.\n"
          ]
        },
        {
          "output_type": "stream",
          "name": "stdout",
          "text": [
            "Early stopping, best iteration is:\n",
            "[403]\tvalid_0's f1: 0.975723\n",
            "Training until validation scores don't improve for 50 rounds\n"
          ]
        },
        {
          "output_type": "stream",
          "name": "stderr",
          "text": [
            "<ipython-input-13-24a02e8ae29f>:10: FutureWarning: suggest_loguniform has been deprecated in v3.0.0. This feature will be removed in v6.0.0. See https://github.com/optuna/optuna/releases/tag/v3.0.0. Use suggest_float(..., log=True) instead.\n",
            "  'learning_rate': trial.suggest_loguniform('learning_rate', 0.01, 0.1),\n",
            "<ipython-input-13-24a02e8ae29f>:12: FutureWarning: suggest_uniform has been deprecated in v3.0.0. This feature will be removed in v6.0.0. See https://github.com/optuna/optuna/releases/tag/v3.0.0. Use suggest_float instead.\n",
            "  'feature_fraction': trial.suggest_uniform('feature_fraction', 0.6, 0.9),\n",
            "<ipython-input-13-24a02e8ae29f>:13: FutureWarning: suggest_uniform has been deprecated in v3.0.0. This feature will be removed in v6.0.0. See https://github.com/optuna/optuna/releases/tag/v3.0.0. Use suggest_float instead.\n",
            "  'bagging_fraction': trial.suggest_uniform('bagging_fraction', 0.7, 0.9),\n",
            "<ipython-input-13-24a02e8ae29f>:14: FutureWarning: suggest_loguniform has been deprecated in v3.0.0. This feature will be removed in v6.0.0. See https://github.com/optuna/optuna/releases/tag/v3.0.0. Use suggest_float(..., log=True) instead.\n",
            "  'lambda_l1': trial.suggest_loguniform('lambda_l1', 1e-3, 10.0),\n",
            "<ipython-input-13-24a02e8ae29f>:15: FutureWarning: suggest_loguniform has been deprecated in v3.0.0. This feature will be removed in v6.0.0. See https://github.com/optuna/optuna/releases/tag/v3.0.0. Use suggest_float(..., log=True) instead.\n",
            "  'lambda_l2': trial.suggest_loguniform('lambda_l2', 1e-3, 10.0),\n"
          ]
        },
        {
          "output_type": "stream",
          "name": "stdout",
          "text": [
            "Early stopping, best iteration is:\n",
            "[185]\tvalid_0's f1: 0.963303\n",
            "Training until validation scores don't improve for 50 rounds\n",
            "Early stopping, best iteration is:\n",
            "[135]\tvalid_0's f1: 0.979405\n",
            "Training until validation scores don't improve for 50 rounds\n",
            "Early stopping, best iteration is:\n",
            "[209]\tvalid_0's f1: 0.969977\n",
            "Training until validation scores don't improve for 50 rounds\n",
            "Early stopping, best iteration is:\n",
            "[146]\tvalid_0's f1: 0.973472\n",
            "Training until validation scores don't improve for 50 rounds\n"
          ]
        },
        {
          "output_type": "stream",
          "name": "stderr",
          "text": [
            "[I 2025-02-09 14:08:06,646] Trial 12 finished with value: 0.9728360957642725 and parameters: {'num_leaves': 145, 'learning_rate': 0.0946498600416148, 'max_depth': 5, 'feature_fraction': 0.75757155629573, 'bagging_fraction': 0.8367526728997025, 'lambda_l1': 0.03535163840780841, 'lambda_l2': 0.005962743392470948, 'min_data_in_leaf': 34}. Best is trial 12 with value: 0.9728360957642725.\n"
          ]
        },
        {
          "output_type": "stream",
          "name": "stdout",
          "text": [
            "Early stopping, best iteration is:\n",
            "[145]\tvalid_0's f1: 0.978035\n",
            "Training until validation scores don't improve for 50 rounds\n"
          ]
        },
        {
          "output_type": "stream",
          "name": "stderr",
          "text": [
            "<ipython-input-13-24a02e8ae29f>:10: FutureWarning: suggest_loguniform has been deprecated in v3.0.0. This feature will be removed in v6.0.0. See https://github.com/optuna/optuna/releases/tag/v3.0.0. Use suggest_float(..., log=True) instead.\n",
            "  'learning_rate': trial.suggest_loguniform('learning_rate', 0.01, 0.1),\n",
            "<ipython-input-13-24a02e8ae29f>:12: FutureWarning: suggest_uniform has been deprecated in v3.0.0. This feature will be removed in v6.0.0. See https://github.com/optuna/optuna/releases/tag/v3.0.0. Use suggest_float instead.\n",
            "  'feature_fraction': trial.suggest_uniform('feature_fraction', 0.6, 0.9),\n",
            "<ipython-input-13-24a02e8ae29f>:13: FutureWarning: suggest_uniform has been deprecated in v3.0.0. This feature will be removed in v6.0.0. See https://github.com/optuna/optuna/releases/tag/v3.0.0. Use suggest_float instead.\n",
            "  'bagging_fraction': trial.suggest_uniform('bagging_fraction', 0.7, 0.9),\n",
            "<ipython-input-13-24a02e8ae29f>:14: FutureWarning: suggest_loguniform has been deprecated in v3.0.0. This feature will be removed in v6.0.0. See https://github.com/optuna/optuna/releases/tag/v3.0.0. Use suggest_float(..., log=True) instead.\n",
            "  'lambda_l1': trial.suggest_loguniform('lambda_l1', 1e-3, 10.0),\n",
            "<ipython-input-13-24a02e8ae29f>:15: FutureWarning: suggest_loguniform has been deprecated in v3.0.0. This feature will be removed in v6.0.0. See https://github.com/optuna/optuna/releases/tag/v3.0.0. Use suggest_float(..., log=True) instead.\n",
            "  'lambda_l2': trial.suggest_loguniform('lambda_l2', 1e-3, 10.0),\n"
          ]
        },
        {
          "output_type": "stream",
          "name": "stdout",
          "text": [
            "Early stopping, best iteration is:\n",
            "[112]\tvalid_0's f1: 0.95881\n",
            "Training until validation scores don't improve for 50 rounds\n",
            "Early stopping, best iteration is:\n",
            "[115]\tvalid_0's f1: 0.978236\n",
            "Training until validation scores don't improve for 50 rounds\n",
            "Early stopping, best iteration is:\n",
            "[201]\tvalid_0's f1: 0.971231\n",
            "Training until validation scores don't improve for 50 rounds\n",
            "Early stopping, best iteration is:\n",
            "[86]\tvalid_0's f1: 0.975666\n",
            "Training until validation scores don't improve for 50 rounds\n"
          ]
        },
        {
          "output_type": "stream",
          "name": "stderr",
          "text": [
            "[I 2025-02-09 14:08:11,316] Trial 13 finished with value: 0.9726121979286536 and parameters: {'num_leaves': 151, 'learning_rate': 0.09330521586391874, 'max_depth': 6, 'feature_fraction': 0.7184301757504888, 'bagging_fraction': 0.8228786896056286, 'lambda_l1': 0.04319388313485931, 'lambda_l2': 0.006619725256381845, 'min_data_in_leaf': 32}. Best is trial 12 with value: 0.9728360957642725.\n"
          ]
        },
        {
          "output_type": "stream",
          "name": "stdout",
          "text": [
            "Early stopping, best iteration is:\n",
            "[151]\tvalid_0's f1: 0.979215\n",
            "Training until validation scores don't improve for 50 rounds\n"
          ]
        },
        {
          "output_type": "stream",
          "name": "stderr",
          "text": [
            "<ipython-input-13-24a02e8ae29f>:10: FutureWarning: suggest_loguniform has been deprecated in v3.0.0. This feature will be removed in v6.0.0. See https://github.com/optuna/optuna/releases/tag/v3.0.0. Use suggest_float(..., log=True) instead.\n",
            "  'learning_rate': trial.suggest_loguniform('learning_rate', 0.01, 0.1),\n",
            "<ipython-input-13-24a02e8ae29f>:12: FutureWarning: suggest_uniform has been deprecated in v3.0.0. This feature will be removed in v6.0.0. See https://github.com/optuna/optuna/releases/tag/v3.0.0. Use suggest_float instead.\n",
            "  'feature_fraction': trial.suggest_uniform('feature_fraction', 0.6, 0.9),\n",
            "<ipython-input-13-24a02e8ae29f>:13: FutureWarning: suggest_uniform has been deprecated in v3.0.0. This feature will be removed in v6.0.0. See https://github.com/optuna/optuna/releases/tag/v3.0.0. Use suggest_float instead.\n",
            "  'bagging_fraction': trial.suggest_uniform('bagging_fraction', 0.7, 0.9),\n",
            "<ipython-input-13-24a02e8ae29f>:14: FutureWarning: suggest_loguniform has been deprecated in v3.0.0. This feature will be removed in v6.0.0. See https://github.com/optuna/optuna/releases/tag/v3.0.0. Use suggest_float(..., log=True) instead.\n",
            "  'lambda_l1': trial.suggest_loguniform('lambda_l1', 1e-3, 10.0),\n",
            "<ipython-input-13-24a02e8ae29f>:15: FutureWarning: suggest_loguniform has been deprecated in v3.0.0. This feature will be removed in v6.0.0. See https://github.com/optuna/optuna/releases/tag/v3.0.0. Use suggest_float(..., log=True) instead.\n",
            "  'lambda_l2': trial.suggest_loguniform('lambda_l2', 1e-3, 10.0),\n"
          ]
        },
        {
          "output_type": "stream",
          "name": "stdout",
          "text": [
            "Early stopping, best iteration is:\n",
            "[204]\tvalid_0's f1: 0.965517\n",
            "Training until validation scores don't improve for 50 rounds\n",
            "Early stopping, best iteration is:\n",
            "[118]\tvalid_0's f1: 0.977064\n",
            "Training until validation scores don't improve for 50 rounds\n",
            "Early stopping, best iteration is:\n",
            "[94]\tvalid_0's f1: 0.96789\n",
            "Training until validation scores don't improve for 50 rounds\n",
            "Early stopping, best iteration is:\n",
            "[71]\tvalid_0's f1: 0.974596\n",
            "Training until validation scores don't improve for 50 rounds\n"
          ]
        },
        {
          "output_type": "stream",
          "name": "stderr",
          "text": [
            "[I 2025-02-09 14:08:16,725] Trial 14 finished with value: 0.972164711295146 and parameters: {'num_leaves': 158, 'learning_rate': 0.09642507817117411, 'max_depth': 6, 'feature_fraction': 0.6057720428373408, 'bagging_fraction': 0.8495830067147528, 'lambda_l1': 0.03262566645028662, 'lambda_l2': 0.006456379511932248, 'min_data_in_leaf': 34}. Best is trial 12 with value: 0.9728360957642725.\n"
          ]
        },
        {
          "output_type": "stream",
          "name": "stdout",
          "text": [
            "Early stopping, best iteration is:\n",
            "[162]\tvalid_0's f1: 0.975779\n",
            "Training until validation scores don't improve for 50 rounds\n"
          ]
        },
        {
          "output_type": "stream",
          "name": "stderr",
          "text": [
            "<ipython-input-13-24a02e8ae29f>:10: FutureWarning: suggest_loguniform has been deprecated in v3.0.0. This feature will be removed in v6.0.0. See https://github.com/optuna/optuna/releases/tag/v3.0.0. Use suggest_float(..., log=True) instead.\n",
            "  'learning_rate': trial.suggest_loguniform('learning_rate', 0.01, 0.1),\n",
            "<ipython-input-13-24a02e8ae29f>:12: FutureWarning: suggest_uniform has been deprecated in v3.0.0. This feature will be removed in v6.0.0. See https://github.com/optuna/optuna/releases/tag/v3.0.0. Use suggest_float instead.\n",
            "  'feature_fraction': trial.suggest_uniform('feature_fraction', 0.6, 0.9),\n",
            "<ipython-input-13-24a02e8ae29f>:13: FutureWarning: suggest_uniform has been deprecated in v3.0.0. This feature will be removed in v6.0.0. See https://github.com/optuna/optuna/releases/tag/v3.0.0. Use suggest_float instead.\n",
            "  'bagging_fraction': trial.suggest_uniform('bagging_fraction', 0.7, 0.9),\n",
            "<ipython-input-13-24a02e8ae29f>:14: FutureWarning: suggest_loguniform has been deprecated in v3.0.0. This feature will be removed in v6.0.0. See https://github.com/optuna/optuna/releases/tag/v3.0.0. Use suggest_float(..., log=True) instead.\n",
            "  'lambda_l1': trial.suggest_loguniform('lambda_l1', 1e-3, 10.0),\n",
            "<ipython-input-13-24a02e8ae29f>:15: FutureWarning: suggest_loguniform has been deprecated in v3.0.0. This feature will be removed in v6.0.0. See https://github.com/optuna/optuna/releases/tag/v3.0.0. Use suggest_float(..., log=True) instead.\n",
            "  'lambda_l2': trial.suggest_loguniform('lambda_l2', 1e-3, 10.0),\n"
          ]
        },
        {
          "output_type": "stream",
          "name": "stdout",
          "text": [
            "Early stopping, best iteration is:\n",
            "[367]\tvalid_0's f1: 0.961098\n",
            "Training until validation scores don't improve for 50 rounds\n",
            "Early stopping, best iteration is:\n",
            "[228]\tvalid_0's f1: 0.973774\n",
            "Training until validation scores don't improve for 50 rounds\n",
            "Early stopping, best iteration is:\n",
            "[151]\tvalid_0's f1: 0.96347\n",
            "Training until validation scores don't improve for 50 rounds\n",
            "Early stopping, best iteration is:\n",
            "[201]\tvalid_0's f1: 0.973472\n",
            "Training until validation scores don't improve for 50 rounds\n"
          ]
        },
        {
          "output_type": "stream",
          "name": "stderr",
          "text": [
            "[I 2025-02-09 14:08:22,136] Trial 15 finished with value: 0.9699472356044965 and parameters: {'num_leaves': 170, 'learning_rate': 0.049806039169223326, 'max_depth': 5, 'feature_fraction': 0.7063891637997274, 'bagging_fraction': 0.7577615509436789, 'lambda_l1': 0.02433641150837399, 'lambda_l2': 0.00705575155537352, 'min_data_in_leaf': 29}. Best is trial 12 with value: 0.9728360957642725.\n"
          ]
        },
        {
          "output_type": "stream",
          "name": "stdout",
          "text": [
            "Early stopping, best iteration is:\n",
            "[308]\tvalid_0's f1: 0.978035\n",
            "Training until validation scores don't improve for 50 rounds\n"
          ]
        },
        {
          "output_type": "stream",
          "name": "stderr",
          "text": [
            "<ipython-input-13-24a02e8ae29f>:10: FutureWarning: suggest_loguniform has been deprecated in v3.0.0. This feature will be removed in v6.0.0. See https://github.com/optuna/optuna/releases/tag/v3.0.0. Use suggest_float(..., log=True) instead.\n",
            "  'learning_rate': trial.suggest_loguniform('learning_rate', 0.01, 0.1),\n",
            "<ipython-input-13-24a02e8ae29f>:12: FutureWarning: suggest_uniform has been deprecated in v3.0.0. This feature will be removed in v6.0.0. See https://github.com/optuna/optuna/releases/tag/v3.0.0. Use suggest_float instead.\n",
            "  'feature_fraction': trial.suggest_uniform('feature_fraction', 0.6, 0.9),\n",
            "<ipython-input-13-24a02e8ae29f>:13: FutureWarning: suggest_uniform has been deprecated in v3.0.0. This feature will be removed in v6.0.0. See https://github.com/optuna/optuna/releases/tag/v3.0.0. Use suggest_float instead.\n",
            "  'bagging_fraction': trial.suggest_uniform('bagging_fraction', 0.7, 0.9),\n",
            "<ipython-input-13-24a02e8ae29f>:14: FutureWarning: suggest_loguniform has been deprecated in v3.0.0. This feature will be removed in v6.0.0. See https://github.com/optuna/optuna/releases/tag/v3.0.0. Use suggest_float(..., log=True) instead.\n",
            "  'lambda_l1': trial.suggest_loguniform('lambda_l1', 1e-3, 10.0),\n",
            "<ipython-input-13-24a02e8ae29f>:15: FutureWarning: suggest_loguniform has been deprecated in v3.0.0. This feature will be removed in v6.0.0. See https://github.com/optuna/optuna/releases/tag/v3.0.0. Use suggest_float(..., log=True) instead.\n",
            "  'lambda_l2': trial.suggest_loguniform('lambda_l2', 1e-3, 10.0),\n"
          ]
        },
        {
          "output_type": "stream",
          "name": "stdout",
          "text": [
            "Early stopping, best iteration is:\n",
            "[16]\tvalid_0's f1: 0.946652\n",
            "Training until validation scores don't improve for 50 rounds\n",
            "Early stopping, best iteration is:\n",
            "[293]\tvalid_0's f1: 0.971494\n",
            "Training until validation scores don't improve for 50 rounds\n",
            "Early stopping, best iteration is:\n",
            "[235]\tvalid_0's f1: 0.962372\n",
            "Training until validation scores don't improve for 50 rounds\n",
            "Early stopping, best iteration is:\n",
            "[322]\tvalid_0's f1: 0.978035\n",
            "Training until validation scores don't improve for 50 rounds\n"
          ]
        },
        {
          "output_type": "stream",
          "name": "stderr",
          "text": [
            "[I 2025-02-09 14:08:30,636] Trial 16 finished with value: 0.965675057208238 and parameters: {'num_leaves': 122, 'learning_rate': 0.02404345890040084, 'max_depth': 6, 'feature_fraction': 0.6866125764161692, 'bagging_fraction': 0.8296007438063204, 'lambda_l1': 0.5842977219512083, 'lambda_l2': 0.005017938128915861, 'min_data_in_leaf': 32}. Best is trial 12 with value: 0.9728360957642725.\n"
          ]
        },
        {
          "output_type": "stream",
          "name": "stdout",
          "text": [
            "Early stopping, best iteration is:\n",
            "[261]\tvalid_0's f1: 0.970115\n",
            "Training until validation scores don't improve for 50 rounds\n"
          ]
        },
        {
          "output_type": "stream",
          "name": "stderr",
          "text": [
            "<ipython-input-13-24a02e8ae29f>:10: FutureWarning: suggest_loguniform has been deprecated in v3.0.0. This feature will be removed in v6.0.0. See https://github.com/optuna/optuna/releases/tag/v3.0.0. Use suggest_float(..., log=True) instead.\n",
            "  'learning_rate': trial.suggest_loguniform('learning_rate', 0.01, 0.1),\n",
            "<ipython-input-13-24a02e8ae29f>:12: FutureWarning: suggest_uniform has been deprecated in v3.0.0. This feature will be removed in v6.0.0. See https://github.com/optuna/optuna/releases/tag/v3.0.0. Use suggest_float instead.\n",
            "  'feature_fraction': trial.suggest_uniform('feature_fraction', 0.6, 0.9),\n",
            "<ipython-input-13-24a02e8ae29f>:13: FutureWarning: suggest_uniform has been deprecated in v3.0.0. This feature will be removed in v6.0.0. See https://github.com/optuna/optuna/releases/tag/v3.0.0. Use suggest_float instead.\n",
            "  'bagging_fraction': trial.suggest_uniform('bagging_fraction', 0.7, 0.9),\n",
            "<ipython-input-13-24a02e8ae29f>:14: FutureWarning: suggest_loguniform has been deprecated in v3.0.0. This feature will be removed in v6.0.0. See https://github.com/optuna/optuna/releases/tag/v3.0.0. Use suggest_float(..., log=True) instead.\n",
            "  'lambda_l1': trial.suggest_loguniform('lambda_l1', 1e-3, 10.0),\n",
            "<ipython-input-13-24a02e8ae29f>:15: FutureWarning: suggest_loguniform has been deprecated in v3.0.0. This feature will be removed in v6.0.0. See https://github.com/optuna/optuna/releases/tag/v3.0.0. Use suggest_float(..., log=True) instead.\n",
            "  'lambda_l2': trial.suggest_loguniform('lambda_l2', 1e-3, 10.0),\n"
          ]
        },
        {
          "output_type": "stream",
          "name": "stdout",
          "text": [
            "Early stopping, best iteration is:\n",
            "[3]\tvalid_0's f1: 0.937286\n",
            "Training until validation scores don't improve for 50 rounds\n",
            "Early stopping, best iteration is:\n",
            "[205]\tvalid_0's f1: 0.973774\n",
            "Training until validation scores don't improve for 50 rounds\n",
            "Early stopping, best iteration is:\n",
            "[53]\tvalid_0's f1: 0.946893\n",
            "Training until validation scores don't improve for 50 rounds\n",
            "Early stopping, best iteration is:\n",
            "[197]\tvalid_0's f1: 0.975723\n",
            "Training until validation scores don't improve for 50 rounds\n"
          ]
        },
        {
          "output_type": "stream",
          "name": "stderr",
          "text": [
            "[I 2025-02-09 14:08:34,162] Trial 17 finished with value: 0.9620137299771166 and parameters: {'num_leaves': 186, 'learning_rate': 0.056790337846976506, 'max_depth': 4, 'feature_fraction': 0.6614878015203293, 'bagging_fraction': 0.8102167777662724, 'lambda_l1': 0.016328803356414682, 'lambda_l2': 0.0957024372015384, 'min_data_in_leaf': 42}. Best is trial 12 with value: 0.9728360957642725.\n"
          ]
        },
        {
          "output_type": "stream",
          "name": "stdout",
          "text": [
            "Early stopping, best iteration is:\n",
            "[308]\tvalid_0's f1: 0.976905\n",
            "Training until validation scores don't improve for 50 rounds\n"
          ]
        },
        {
          "output_type": "stream",
          "name": "stderr",
          "text": [
            "<ipython-input-13-24a02e8ae29f>:10: FutureWarning: suggest_loguniform has been deprecated in v3.0.0. This feature will be removed in v6.0.0. See https://github.com/optuna/optuna/releases/tag/v3.0.0. Use suggest_float(..., log=True) instead.\n",
            "  'learning_rate': trial.suggest_loguniform('learning_rate', 0.01, 0.1),\n",
            "<ipython-input-13-24a02e8ae29f>:12: FutureWarning: suggest_uniform has been deprecated in v3.0.0. This feature will be removed in v6.0.0. See https://github.com/optuna/optuna/releases/tag/v3.0.0. Use suggest_float instead.\n",
            "  'feature_fraction': trial.suggest_uniform('feature_fraction', 0.6, 0.9),\n",
            "<ipython-input-13-24a02e8ae29f>:13: FutureWarning: suggest_uniform has been deprecated in v3.0.0. This feature will be removed in v6.0.0. See https://github.com/optuna/optuna/releases/tag/v3.0.0. Use suggest_float instead.\n",
            "  'bagging_fraction': trial.suggest_uniform('bagging_fraction', 0.7, 0.9),\n",
            "<ipython-input-13-24a02e8ae29f>:14: FutureWarning: suggest_loguniform has been deprecated in v3.0.0. This feature will be removed in v6.0.0. See https://github.com/optuna/optuna/releases/tag/v3.0.0. Use suggest_float(..., log=True) instead.\n",
            "  'lambda_l1': trial.suggest_loguniform('lambda_l1', 1e-3, 10.0),\n",
            "<ipython-input-13-24a02e8ae29f>:15: FutureWarning: suggest_loguniform has been deprecated in v3.0.0. This feature will be removed in v6.0.0. See https://github.com/optuna/optuna/releases/tag/v3.0.0. Use suggest_float(..., log=True) instead.\n",
            "  'lambda_l2': trial.suggest_loguniform('lambda_l2', 1e-3, 10.0),\n"
          ]
        },
        {
          "output_type": "stream",
          "name": "stdout",
          "text": [
            "Early stopping, best iteration is:\n",
            "[331]\tvalid_0's f1: 0.963218\n",
            "Training until validation scores don't improve for 50 rounds\n",
            "Early stopping, best iteration is:\n",
            "[321]\tvalid_0's f1: 0.977117\n",
            "Training until validation scores don't improve for 50 rounds\n",
            "Early stopping, best iteration is:\n",
            "[202]\tvalid_0's f1: 0.965675\n",
            "Training until validation scores don't improve for 50 rounds\n",
            "Early stopping, best iteration is:\n",
            "[163]\tvalid_0's f1: 0.973533\n",
            "Training until validation scores don't improve for 50 rounds\n"
          ]
        },
        {
          "output_type": "stream",
          "name": "stderr",
          "text": [
            "[I 2025-02-09 14:08:43,580] Trial 18 finished with value: 0.970615243342516 and parameters: {'num_leaves': 127, 'learning_rate': 0.04014369846251532, 'max_depth': 7, 'feature_fraction': 0.7362541131202855, 'bagging_fraction': 0.8767038428850841, 'lambda_l1': 0.09285260469658732, 'lambda_l2': 0.002860723473431295, 'min_data_in_leaf': 24}. Best is trial 12 with value: 0.9728360957642725.\n"
          ]
        },
        {
          "output_type": "stream",
          "name": "stdout",
          "text": [
            "Early stopping, best iteration is:\n",
            "[181]\tvalid_0's f1: 0.973533\n",
            "Training until validation scores don't improve for 50 rounds\n"
          ]
        },
        {
          "output_type": "stream",
          "name": "stderr",
          "text": [
            "<ipython-input-13-24a02e8ae29f>:10: FutureWarning: suggest_loguniform has been deprecated in v3.0.0. This feature will be removed in v6.0.0. See https://github.com/optuna/optuna/releases/tag/v3.0.0. Use suggest_float(..., log=True) instead.\n",
            "  'learning_rate': trial.suggest_loguniform('learning_rate', 0.01, 0.1),\n",
            "<ipython-input-13-24a02e8ae29f>:12: FutureWarning: suggest_uniform has been deprecated in v3.0.0. This feature will be removed in v6.0.0. See https://github.com/optuna/optuna/releases/tag/v3.0.0. Use suggest_float instead.\n",
            "  'feature_fraction': trial.suggest_uniform('feature_fraction', 0.6, 0.9),\n",
            "<ipython-input-13-24a02e8ae29f>:13: FutureWarning: suggest_uniform has been deprecated in v3.0.0. This feature will be removed in v6.0.0. See https://github.com/optuna/optuna/releases/tag/v3.0.0. Use suggest_float instead.\n",
            "  'bagging_fraction': trial.suggest_uniform('bagging_fraction', 0.7, 0.9),\n",
            "<ipython-input-13-24a02e8ae29f>:14: FutureWarning: suggest_loguniform has been deprecated in v3.0.0. This feature will be removed in v6.0.0. See https://github.com/optuna/optuna/releases/tag/v3.0.0. Use suggest_float(..., log=True) instead.\n",
            "  'lambda_l1': trial.suggest_loguniform('lambda_l1', 1e-3, 10.0),\n",
            "<ipython-input-13-24a02e8ae29f>:15: FutureWarning: suggest_loguniform has been deprecated in v3.0.0. This feature will be removed in v6.0.0. See https://github.com/optuna/optuna/releases/tag/v3.0.0. Use suggest_float(..., log=True) instead.\n",
            "  'lambda_l2': trial.suggest_loguniform('lambda_l2', 1e-3, 10.0),\n"
          ]
        },
        {
          "output_type": "stream",
          "name": "stdout",
          "text": [
            "Early stopping, best iteration is:\n",
            "[147]\tvalid_0's f1: 0.942242\n",
            "Training until validation scores don't improve for 50 rounds\n",
            "Early stopping, best iteration is:\n",
            "[223]\tvalid_0's f1: 0.968182\n",
            "Training until validation scores don't improve for 50 rounds\n",
            "Early stopping, best iteration is:\n",
            "[84]\tvalid_0's f1: 0.945701\n",
            "Training until validation scores don't improve for 50 rounds\n",
            "Early stopping, best iteration is:\n",
            "[292]\tvalid_0's f1: 0.973472\n",
            "Training until validation scores don't improve for 50 rounds\n"
          ]
        },
        {
          "output_type": "stream",
          "name": "stderr",
          "text": [
            "[I 2025-02-09 14:08:47,988] Trial 19 finished with value: 0.958029197080292 and parameters: {'num_leaves': 192, 'learning_rate': 0.025708106412011704, 'max_depth': 5, 'feature_fraction': 0.7940170853926797, 'bagging_fraction': 0.8389669690252112, 'lambda_l1': 0.09015305147930501, 'lambda_l2': 0.013794942132922363, 'min_data_in_leaf': 41}. Best is trial 12 with value: 0.9728360957642725.\n"
          ]
        },
        {
          "output_type": "stream",
          "name": "stdout",
          "text": [
            "Early stopping, best iteration is:\n",
            "[220]\tvalid_0's f1: 0.96092\n",
            "Training until validation scores don't improve for 50 rounds\n"
          ]
        },
        {
          "output_type": "stream",
          "name": "stderr",
          "text": [
            "<ipython-input-13-24a02e8ae29f>:10: FutureWarning: suggest_loguniform has been deprecated in v3.0.0. This feature will be removed in v6.0.0. See https://github.com/optuna/optuna/releases/tag/v3.0.0. Use suggest_float(..., log=True) instead.\n",
            "  'learning_rate': trial.suggest_loguniform('learning_rate', 0.01, 0.1),\n",
            "<ipython-input-13-24a02e8ae29f>:12: FutureWarning: suggest_uniform has been deprecated in v3.0.0. This feature will be removed in v6.0.0. See https://github.com/optuna/optuna/releases/tag/v3.0.0. Use suggest_float instead.\n",
            "  'feature_fraction': trial.suggest_uniform('feature_fraction', 0.6, 0.9),\n",
            "<ipython-input-13-24a02e8ae29f>:13: FutureWarning: suggest_uniform has been deprecated in v3.0.0. This feature will be removed in v6.0.0. See https://github.com/optuna/optuna/releases/tag/v3.0.0. Use suggest_float instead.\n",
            "  'bagging_fraction': trial.suggest_uniform('bagging_fraction', 0.7, 0.9),\n",
            "<ipython-input-13-24a02e8ae29f>:14: FutureWarning: suggest_loguniform has been deprecated in v3.0.0. This feature will be removed in v6.0.0. See https://github.com/optuna/optuna/releases/tag/v3.0.0. Use suggest_float(..., log=True) instead.\n",
            "  'lambda_l1': trial.suggest_loguniform('lambda_l1', 1e-3, 10.0),\n",
            "<ipython-input-13-24a02e8ae29f>:15: FutureWarning: suggest_loguniform has been deprecated in v3.0.0. This feature will be removed in v6.0.0. See https://github.com/optuna/optuna/releases/tag/v3.0.0. Use suggest_float(..., log=True) instead.\n",
            "  'lambda_l2': trial.suggest_loguniform('lambda_l2', 1e-3, 10.0),\n"
          ]
        },
        {
          "output_type": "stream",
          "name": "stdout",
          "text": [
            "Early stopping, best iteration is:\n",
            "[118]\tvalid_0's f1: 0.940909\n",
            "Training until validation scores don't improve for 50 rounds\n",
            "Early stopping, best iteration is:\n",
            "[99]\tvalid_0's f1: 0.95553\n",
            "Training until validation scores don't improve for 50 rounds\n",
            "Early stopping, best iteration is:\n",
            "[97]\tvalid_0's f1: 0.954233\n",
            "Training until validation scores don't improve for 50 rounds\n",
            "Early stopping, best iteration is:\n",
            "[75]\tvalid_0's f1: 0.956019\n",
            "Training until validation scores don't improve for 50 rounds\n"
          ]
        },
        {
          "output_type": "stream",
          "name": "stderr",
          "text": [
            "[I 2025-02-09 14:08:50,458] Trial 20 finished with value: 0.9527956003666361 and parameters: {'num_leaves': 123, 'learning_rate': 0.09950994594924749, 'max_depth': 4, 'feature_fraction': 0.7426728303581496, 'bagging_fraction': 0.768428437629177, 'lambda_l1': 9.702468954203125, 'lambda_l2': 0.04558040903902777, 'min_data_in_leaf': 56}. Best is trial 12 with value: 0.9728360957642725.\n"
          ]
        },
        {
          "output_type": "stream",
          "name": "stdout",
          "text": [
            "Early stopping, best iteration is:\n",
            "[104]\tvalid_0's f1: 0.957422\n",
            "Training until validation scores don't improve for 50 rounds\n"
          ]
        },
        {
          "output_type": "stream",
          "name": "stderr",
          "text": [
            "<ipython-input-13-24a02e8ae29f>:10: FutureWarning: suggest_loguniform has been deprecated in v3.0.0. This feature will be removed in v6.0.0. See https://github.com/optuna/optuna/releases/tag/v3.0.0. Use suggest_float(..., log=True) instead.\n",
            "  'learning_rate': trial.suggest_loguniform('learning_rate', 0.01, 0.1),\n",
            "<ipython-input-13-24a02e8ae29f>:12: FutureWarning: suggest_uniform has been deprecated in v3.0.0. This feature will be removed in v6.0.0. See https://github.com/optuna/optuna/releases/tag/v3.0.0. Use suggest_float instead.\n",
            "  'feature_fraction': trial.suggest_uniform('feature_fraction', 0.6, 0.9),\n",
            "<ipython-input-13-24a02e8ae29f>:13: FutureWarning: suggest_uniform has been deprecated in v3.0.0. This feature will be removed in v6.0.0. See https://github.com/optuna/optuna/releases/tag/v3.0.0. Use suggest_float instead.\n",
            "  'bagging_fraction': trial.suggest_uniform('bagging_fraction', 0.7, 0.9),\n",
            "<ipython-input-13-24a02e8ae29f>:14: FutureWarning: suggest_loguniform has been deprecated in v3.0.0. This feature will be removed in v6.0.0. See https://github.com/optuna/optuna/releases/tag/v3.0.0. Use suggest_float(..., log=True) instead.\n",
            "  'lambda_l1': trial.suggest_loguniform('lambda_l1', 1e-3, 10.0),\n",
            "<ipython-input-13-24a02e8ae29f>:15: FutureWarning: suggest_loguniform has been deprecated in v3.0.0. This feature will be removed in v6.0.0. See https://github.com/optuna/optuna/releases/tag/v3.0.0. Use suggest_float(..., log=True) instead.\n",
            "  'lambda_l2': trial.suggest_loguniform('lambda_l2', 1e-3, 10.0),\n"
          ]
        },
        {
          "output_type": "stream",
          "name": "stdout",
          "text": [
            "Early stopping, best iteration is:\n",
            "[200]\tvalid_0's f1: 0.965753\n",
            "Training until validation scores don't improve for 50 rounds\n",
            "Early stopping, best iteration is:\n",
            "[113]\tvalid_0's f1: 0.980482\n",
            "Training until validation scores don't improve for 50 rounds\n",
            "Early stopping, best iteration is:\n",
            "[112]\tvalid_0's f1: 0.970115\n",
            "Training until validation scores don't improve for 50 rounds\n",
            "Early stopping, best iteration is:\n",
            "[60]\tvalid_0's f1: 0.97235\n",
            "Training until validation scores don't improve for 50 rounds\n"
          ]
        },
        {
          "output_type": "stream",
          "name": "stderr",
          "text": [
            "[I 2025-02-09 14:08:56,935] Trial 21 finished with value: 0.973569294415077 and parameters: {'num_leaves': 254, 'learning_rate': 0.09990984279197355, 'max_depth': 6, 'feature_fraction': 0.6091830212281607, 'bagging_fraction': 0.8474050470098213, 'lambda_l1': 0.014486354223995275, 'lambda_l2': 0.005580562319610608, 'min_data_in_leaf': 35}. Best is trial 21 with value: 0.973569294415077.\n"
          ]
        },
        {
          "output_type": "stream",
          "name": "stdout",
          "text": [
            "Early stopping, best iteration is:\n",
            "[188]\tvalid_0's f1: 0.979215\n",
            "Training until validation scores don't improve for 50 rounds\n"
          ]
        },
        {
          "output_type": "stream",
          "name": "stderr",
          "text": [
            "<ipython-input-13-24a02e8ae29f>:10: FutureWarning: suggest_loguniform has been deprecated in v3.0.0. This feature will be removed in v6.0.0. See https://github.com/optuna/optuna/releases/tag/v3.0.0. Use suggest_float(..., log=True) instead.\n",
            "  'learning_rate': trial.suggest_loguniform('learning_rate', 0.01, 0.1),\n",
            "<ipython-input-13-24a02e8ae29f>:12: FutureWarning: suggest_uniform has been deprecated in v3.0.0. This feature will be removed in v6.0.0. See https://github.com/optuna/optuna/releases/tag/v3.0.0. Use suggest_float instead.\n",
            "  'feature_fraction': trial.suggest_uniform('feature_fraction', 0.6, 0.9),\n",
            "<ipython-input-13-24a02e8ae29f>:13: FutureWarning: suggest_uniform has been deprecated in v3.0.0. This feature will be removed in v6.0.0. See https://github.com/optuna/optuna/releases/tag/v3.0.0. Use suggest_float instead.\n",
            "  'bagging_fraction': trial.suggest_uniform('bagging_fraction', 0.7, 0.9),\n",
            "<ipython-input-13-24a02e8ae29f>:14: FutureWarning: suggest_loguniform has been deprecated in v3.0.0. This feature will be removed in v6.0.0. See https://github.com/optuna/optuna/releases/tag/v3.0.0. Use suggest_float(..., log=True) instead.\n",
            "  'lambda_l1': trial.suggest_loguniform('lambda_l1', 1e-3, 10.0),\n",
            "<ipython-input-13-24a02e8ae29f>:15: FutureWarning: suggest_loguniform has been deprecated in v3.0.0. This feature will be removed in v6.0.0. See https://github.com/optuna/optuna/releases/tag/v3.0.0. Use suggest_float(..., log=True) instead.\n",
            "  'lambda_l2': trial.suggest_loguniform('lambda_l2', 1e-3, 10.0),\n"
          ]
        },
        {
          "output_type": "stream",
          "name": "stdout",
          "text": [
            "Early stopping, best iteration is:\n",
            "[147]\tvalid_0's f1: 0.961009\n",
            "Training until validation scores don't improve for 50 rounds\n",
            "Early stopping, best iteration is:\n",
            "[296]\tvalid_0's f1: 0.982778\n",
            "Training until validation scores don't improve for 50 rounds\n",
            "Early stopping, best iteration is:\n",
            "[114]\tvalid_0's f1: 0.966705\n",
            "Training until validation scores don't improve for 50 rounds\n",
            "Early stopping, best iteration is:\n",
            "[65]\tvalid_0's f1: 0.972414\n",
            "Training until validation scores don't improve for 50 rounds\n"
          ]
        },
        {
          "output_type": "stream",
          "name": "stderr",
          "text": [
            "[I 2025-02-09 14:09:01,589] Trial 22 finished with value: 0.9724011039558418 and parameters: {'num_leaves': 181, 'learning_rate': 0.07183863915816485, 'max_depth': 6, 'feature_fraction': 0.6184226940036539, 'bagging_fraction': 0.8703261046735897, 'lambda_l1': 0.012502759166085153, 'lambda_l2': 0.01471358519510229, 'min_data_in_leaf': 23}. Best is trial 21 with value: 0.973569294415077.\n"
          ]
        },
        {
          "output_type": "stream",
          "name": "stdout",
          "text": [
            "Early stopping, best iteration is:\n",
            "[204]\tvalid_0's f1: 0.979167\n",
            "Training until validation scores don't improve for 50 rounds\n"
          ]
        },
        {
          "output_type": "stream",
          "name": "stderr",
          "text": [
            "<ipython-input-13-24a02e8ae29f>:10: FutureWarning: suggest_loguniform has been deprecated in v3.0.0. This feature will be removed in v6.0.0. See https://github.com/optuna/optuna/releases/tag/v3.0.0. Use suggest_float(..., log=True) instead.\n",
            "  'learning_rate': trial.suggest_loguniform('learning_rate', 0.01, 0.1),\n",
            "<ipython-input-13-24a02e8ae29f>:12: FutureWarning: suggest_uniform has been deprecated in v3.0.0. This feature will be removed in v6.0.0. See https://github.com/optuna/optuna/releases/tag/v3.0.0. Use suggest_float instead.\n",
            "  'feature_fraction': trial.suggest_uniform('feature_fraction', 0.6, 0.9),\n",
            "<ipython-input-13-24a02e8ae29f>:13: FutureWarning: suggest_uniform has been deprecated in v3.0.0. This feature will be removed in v6.0.0. See https://github.com/optuna/optuna/releases/tag/v3.0.0. Use suggest_float instead.\n",
            "  'bagging_fraction': trial.suggest_uniform('bagging_fraction', 0.7, 0.9),\n",
            "<ipython-input-13-24a02e8ae29f>:14: FutureWarning: suggest_loguniform has been deprecated in v3.0.0. This feature will be removed in v6.0.0. See https://github.com/optuna/optuna/releases/tag/v3.0.0. Use suggest_float(..., log=True) instead.\n",
            "  'lambda_l1': trial.suggest_loguniform('lambda_l1', 1e-3, 10.0),\n",
            "<ipython-input-13-24a02e8ae29f>:15: FutureWarning: suggest_loguniform has been deprecated in v3.0.0. This feature will be removed in v6.0.0. See https://github.com/optuna/optuna/releases/tag/v3.0.0. Use suggest_float(..., log=True) instead.\n",
            "  'lambda_l2': trial.suggest_loguniform('lambda_l2', 1e-3, 10.0),\n"
          ]
        },
        {
          "output_type": "stream",
          "name": "stdout",
          "text": [
            "Early stopping, best iteration is:\n",
            "[194]\tvalid_0's f1: 0.959908\n",
            "Training until validation scores don't improve for 50 rounds\n",
            "Early stopping, best iteration is:\n",
            "[232]\tvalid_0's f1: 0.978236\n",
            "Training until validation scores don't improve for 50 rounds\n",
            "Early stopping, best iteration is:\n",
            "[123]\tvalid_0's f1: 0.962199\n",
            "Training until validation scores don't improve for 50 rounds\n",
            "Early stopping, best iteration is:\n",
            "[143]\tvalid_0's f1: 0.976852\n",
            "Training until validation scores don't improve for 50 rounds\n"
          ]
        },
        {
          "output_type": "stream",
          "name": "stderr",
          "text": [
            "[I 2025-02-09 14:09:11,223] Trial 23 finished with value: 0.9701286764705882 and parameters: {'num_leaves': 247, 'learning_rate': 0.06017296785585466, 'max_depth': 7, 'feature_fraction': 0.6703624151365669, 'bagging_fraction': 0.8219780939138245, 'lambda_l1': 0.055744388274849045, 'lambda_l2': 0.0029602959367984053, 'min_data_in_leaf': 35}. Best is trial 21 with value: 0.973569294415077.\n"
          ]
        },
        {
          "output_type": "stream",
          "name": "stdout",
          "text": [
            "Early stopping, best iteration is:\n",
            "[128]\tvalid_0's f1: 0.973533\n",
            "Training until validation scores don't improve for 50 rounds\n"
          ]
        },
        {
          "output_type": "stream",
          "name": "stderr",
          "text": [
            "<ipython-input-13-24a02e8ae29f>:10: FutureWarning: suggest_loguniform has been deprecated in v3.0.0. This feature will be removed in v6.0.0. See https://github.com/optuna/optuna/releases/tag/v3.0.0. Use suggest_float(..., log=True) instead.\n",
            "  'learning_rate': trial.suggest_loguniform('learning_rate', 0.01, 0.1),\n",
            "<ipython-input-13-24a02e8ae29f>:12: FutureWarning: suggest_uniform has been deprecated in v3.0.0. This feature will be removed in v6.0.0. See https://github.com/optuna/optuna/releases/tag/v3.0.0. Use suggest_float instead.\n",
            "  'feature_fraction': trial.suggest_uniform('feature_fraction', 0.6, 0.9),\n",
            "<ipython-input-13-24a02e8ae29f>:13: FutureWarning: suggest_uniform has been deprecated in v3.0.0. This feature will be removed in v6.0.0. See https://github.com/optuna/optuna/releases/tag/v3.0.0. Use suggest_float instead.\n",
            "  'bagging_fraction': trial.suggest_uniform('bagging_fraction', 0.7, 0.9),\n",
            "<ipython-input-13-24a02e8ae29f>:14: FutureWarning: suggest_loguniform has been deprecated in v3.0.0. This feature will be removed in v6.0.0. See https://github.com/optuna/optuna/releases/tag/v3.0.0. Use suggest_float(..., log=True) instead.\n",
            "  'lambda_l1': trial.suggest_loguniform('lambda_l1', 1e-3, 10.0),\n",
            "<ipython-input-13-24a02e8ae29f>:15: FutureWarning: suggest_loguniform has been deprecated in v3.0.0. This feature will be removed in v6.0.0. See https://github.com/optuna/optuna/releases/tag/v3.0.0. Use suggest_float(..., log=True) instead.\n",
            "  'lambda_l2': trial.suggest_loguniform('lambda_l2', 1e-3, 10.0),\n"
          ]
        },
        {
          "output_type": "stream",
          "name": "stdout",
          "text": [
            "Early stopping, best iteration is:\n",
            "[208]\tvalid_0's f1: 0.965517\n",
            "Training until validation scores don't improve for 50 rounds\n",
            "Early stopping, best iteration is:\n",
            "[203]\tvalid_0's f1: 0.979358\n",
            "Training until validation scores don't improve for 50 rounds\n",
            "Early stopping, best iteration is:\n",
            "[127]\tvalid_0's f1: 0.964733\n",
            "Training until validation scores don't improve for 50 rounds\n",
            "Early stopping, best iteration is:\n",
            "[111]\tvalid_0's f1: 0.974654\n",
            "Training until validation scores don't improve for 50 rounds\n"
          ]
        },
        {
          "output_type": "stream",
          "name": "stderr",
          "text": [
            "[I 2025-02-09 14:09:15,256] Trial 24 finished with value: 0.9724391364262747 and parameters: {'num_leaves': 252, 'learning_rate': 0.07713466482995396, 'max_depth': 5, 'feature_fraction': 0.6327225351612098, 'bagging_fraction': 0.8465492173583291, 'lambda_l1': 0.012623763328791594, 'lambda_l2': 0.0031090930014016967, 'min_data_in_leaf': 48}. Best is trial 21 with value: 0.973569294415077.\n"
          ]
        },
        {
          "output_type": "stream",
          "name": "stdout",
          "text": [
            "Early stopping, best iteration is:\n",
            "[224]\tvalid_0's f1: 0.978035\n",
            "Training until validation scores don't improve for 50 rounds\n"
          ]
        },
        {
          "output_type": "stream",
          "name": "stderr",
          "text": [
            "<ipython-input-13-24a02e8ae29f>:10: FutureWarning: suggest_loguniform has been deprecated in v3.0.0. This feature will be removed in v6.0.0. See https://github.com/optuna/optuna/releases/tag/v3.0.0. Use suggest_float(..., log=True) instead.\n",
            "  'learning_rate': trial.suggest_loguniform('learning_rate', 0.01, 0.1),\n",
            "<ipython-input-13-24a02e8ae29f>:12: FutureWarning: suggest_uniform has been deprecated in v3.0.0. This feature will be removed in v6.0.0. See https://github.com/optuna/optuna/releases/tag/v3.0.0. Use suggest_float instead.\n",
            "  'feature_fraction': trial.suggest_uniform('feature_fraction', 0.6, 0.9),\n",
            "<ipython-input-13-24a02e8ae29f>:13: FutureWarning: suggest_uniform has been deprecated in v3.0.0. This feature will be removed in v6.0.0. See https://github.com/optuna/optuna/releases/tag/v3.0.0. Use suggest_float instead.\n",
            "  'bagging_fraction': trial.suggest_uniform('bagging_fraction', 0.7, 0.9),\n",
            "<ipython-input-13-24a02e8ae29f>:14: FutureWarning: suggest_loguniform has been deprecated in v3.0.0. This feature will be removed in v6.0.0. See https://github.com/optuna/optuna/releases/tag/v3.0.0. Use suggest_float(..., log=True) instead.\n",
            "  'lambda_l1': trial.suggest_loguniform('lambda_l1', 1e-3, 10.0),\n",
            "<ipython-input-13-24a02e8ae29f>:15: FutureWarning: suggest_loguniform has been deprecated in v3.0.0. This feature will be removed in v6.0.0. See https://github.com/optuna/optuna/releases/tag/v3.0.0. Use suggest_float(..., log=True) instead.\n",
            "  'lambda_l2': trial.suggest_loguniform('lambda_l2', 1e-3, 10.0),\n"
          ]
        },
        {
          "output_type": "stream",
          "name": "stdout",
          "text": [
            "Early stopping, best iteration is:\n",
            "[101]\tvalid_0's f1: 0.957617\n",
            "Training until validation scores don't improve for 50 rounds\n",
            "Early stopping, best iteration is:\n",
            "[160]\tvalid_0's f1: 0.980527\n",
            "Training until validation scores don't improve for 50 rounds\n",
            "Early stopping, best iteration is:\n",
            "[171]\tvalid_0's f1: 0.969001\n",
            "Training until validation scores don't improve for 50 rounds\n",
            "Early stopping, best iteration is:\n",
            "[67]\tvalid_0's f1: 0.974713\n",
            "Training until validation scores don't improve for 50 rounds\n"
          ]
        },
        {
          "output_type": "stream",
          "name": "stderr",
          "text": [
            "[I 2025-02-09 14:09:19,026] Trial 25 finished with value: 0.9724264705882353 and parameters: {'num_leaves': 148, 'learning_rate': 0.09651105743207702, 'max_depth': 6, 'feature_fraction': 0.726904324769249, 'bagging_fraction': 0.8001250691714052, 'lambda_l1': 0.01290293266421872, 'lambda_l2': 0.00895556915342782, 'min_data_in_leaf': 10}. Best is trial 21 with value: 0.973569294415077.\n"
          ]
        },
        {
          "output_type": "stream",
          "name": "stdout",
          "text": [
            "Early stopping, best iteration is:\n",
            "[147]\tvalid_0's f1: 0.980347\n",
            "Training until validation scores don't improve for 50 rounds\n"
          ]
        },
        {
          "output_type": "stream",
          "name": "stderr",
          "text": [
            "<ipython-input-13-24a02e8ae29f>:10: FutureWarning: suggest_loguniform has been deprecated in v3.0.0. This feature will be removed in v6.0.0. See https://github.com/optuna/optuna/releases/tag/v3.0.0. Use suggest_float(..., log=True) instead.\n",
            "  'learning_rate': trial.suggest_loguniform('learning_rate', 0.01, 0.1),\n",
            "<ipython-input-13-24a02e8ae29f>:12: FutureWarning: suggest_uniform has been deprecated in v3.0.0. This feature will be removed in v6.0.0. See https://github.com/optuna/optuna/releases/tag/v3.0.0. Use suggest_float instead.\n",
            "  'feature_fraction': trial.suggest_uniform('feature_fraction', 0.6, 0.9),\n",
            "<ipython-input-13-24a02e8ae29f>:13: FutureWarning: suggest_uniform has been deprecated in v3.0.0. This feature will be removed in v6.0.0. See https://github.com/optuna/optuna/releases/tag/v3.0.0. Use suggest_float instead.\n",
            "  'bagging_fraction': trial.suggest_uniform('bagging_fraction', 0.7, 0.9),\n",
            "<ipython-input-13-24a02e8ae29f>:14: FutureWarning: suggest_loguniform has been deprecated in v3.0.0. This feature will be removed in v6.0.0. See https://github.com/optuna/optuna/releases/tag/v3.0.0. Use suggest_float(..., log=True) instead.\n",
            "  'lambda_l1': trial.suggest_loguniform('lambda_l1', 1e-3, 10.0),\n",
            "<ipython-input-13-24a02e8ae29f>:15: FutureWarning: suggest_loguniform has been deprecated in v3.0.0. This feature will be removed in v6.0.0. See https://github.com/optuna/optuna/releases/tag/v3.0.0. Use suggest_float(..., log=True) instead.\n",
            "  'lambda_l2': trial.suggest_loguniform('lambda_l2', 1e-3, 10.0),\n"
          ]
        },
        {
          "output_type": "stream",
          "name": "stdout",
          "text": [
            "Early stopping, best iteration is:\n",
            "[166]\tvalid_0's f1: 0.956522\n",
            "Training until validation scores don't improve for 50 rounds\n",
            "Early stopping, best iteration is:\n",
            "[116]\tvalid_0's f1: 0.97032\n",
            "Training until validation scores don't improve for 50 rounds\n",
            "Early stopping, best iteration is:\n",
            "[236]\tvalid_0's f1: 0.971165\n",
            "Training until validation scores don't improve for 50 rounds\n",
            "Early stopping, best iteration is:\n",
            "[142]\tvalid_0's f1: 0.973533\n",
            "Training until validation scores don't improve for 50 rounds\n"
          ]
        },
        {
          "output_type": "stream",
          "name": "stderr",
          "text": [
            "[I 2025-02-09 14:09:26,127] Trial 26 finished with value: 0.9696551724137931 and parameters: {'num_leaves': 111, 'learning_rate': 0.06636735626008536, 'max_depth': 4, 'feature_fraction': 0.7824178264341154, 'bagging_fraction': 0.8609029853586815, 'lambda_l1': 0.40957620694997426, 'lambda_l2': 0.024884949455435814, 'min_data_in_leaf': 26}. Best is trial 21 with value: 0.973569294415077.\n"
          ]
        },
        {
          "output_type": "stream",
          "name": "stdout",
          "text": [
            "Early stopping, best iteration is:\n",
            "[302]\tvalid_0's f1: 0.976852\n",
            "Training until validation scores don't improve for 50 rounds\n"
          ]
        },
        {
          "output_type": "stream",
          "name": "stderr",
          "text": [
            "<ipython-input-13-24a02e8ae29f>:10: FutureWarning: suggest_loguniform has been deprecated in v3.0.0. This feature will be removed in v6.0.0. See https://github.com/optuna/optuna/releases/tag/v3.0.0. Use suggest_float(..., log=True) instead.\n",
            "  'learning_rate': trial.suggest_loguniform('learning_rate', 0.01, 0.1),\n",
            "<ipython-input-13-24a02e8ae29f>:12: FutureWarning: suggest_uniform has been deprecated in v3.0.0. This feature will be removed in v6.0.0. See https://github.com/optuna/optuna/releases/tag/v3.0.0. Use suggest_float instead.\n",
            "  'feature_fraction': trial.suggest_uniform('feature_fraction', 0.6, 0.9),\n",
            "<ipython-input-13-24a02e8ae29f>:13: FutureWarning: suggest_uniform has been deprecated in v3.0.0. This feature will be removed in v6.0.0. See https://github.com/optuna/optuna/releases/tag/v3.0.0. Use suggest_float instead.\n",
            "  'bagging_fraction': trial.suggest_uniform('bagging_fraction', 0.7, 0.9),\n",
            "<ipython-input-13-24a02e8ae29f>:14: FutureWarning: suggest_loguniform has been deprecated in v3.0.0. This feature will be removed in v6.0.0. See https://github.com/optuna/optuna/releases/tag/v3.0.0. Use suggest_float(..., log=True) instead.\n",
            "  'lambda_l1': trial.suggest_loguniform('lambda_l1', 1e-3, 10.0),\n",
            "<ipython-input-13-24a02e8ae29f>:15: FutureWarning: suggest_loguniform has been deprecated in v3.0.0. This feature will be removed in v6.0.0. See https://github.com/optuna/optuna/releases/tag/v3.0.0. Use suggest_float(..., log=True) instead.\n",
            "  'lambda_l2': trial.suggest_loguniform('lambda_l2', 1e-3, 10.0),\n"
          ]
        },
        {
          "output_type": "stream",
          "name": "stdout",
          "text": [
            "Early stopping, best iteration is:\n",
            "[237]\tvalid_0's f1: 0.964409\n",
            "Training until validation scores don't improve for 50 rounds\n",
            "Early stopping, best iteration is:\n",
            "[150]\tvalid_0's f1: 0.979358\n",
            "Training until validation scores don't improve for 50 rounds\n",
            "Early stopping, best iteration is:\n",
            "[187]\tvalid_0's f1: 0.969001\n",
            "Training until validation scores don't improve for 50 rounds\n",
            "Early stopping, best iteration is:\n",
            "[123]\tvalid_0's f1: 0.974654\n",
            "Training until validation scores don't improve for 50 rounds\n"
          ]
        },
        {
          "output_type": "stream",
          "name": "stderr",
          "text": [
            "[I 2025-02-09 14:09:30,727] Trial 27 finished with value: 0.9724011039558418 and parameters: {'num_leaves': 230, 'learning_rate': 0.05191217415948254, 'max_depth': 12, 'feature_fraction': 0.6854788592145203, 'bagging_fraction': 0.8182794685922317, 'lambda_l1': 0.0658301956064222, 'lambda_l2': 0.07348353630729414, 'min_data_in_leaf': 50}. Best is trial 21 with value: 0.973569294415077.\n"
          ]
        },
        {
          "output_type": "stream",
          "name": "stdout",
          "text": [
            "Early stopping, best iteration is:\n",
            "[136]\tvalid_0's f1: 0.974596\n",
            "Training until validation scores don't improve for 50 rounds\n"
          ]
        },
        {
          "output_type": "stream",
          "name": "stderr",
          "text": [
            "<ipython-input-13-24a02e8ae29f>:10: FutureWarning: suggest_loguniform has been deprecated in v3.0.0. This feature will be removed in v6.0.0. See https://github.com/optuna/optuna/releases/tag/v3.0.0. Use suggest_float(..., log=True) instead.\n",
            "  'learning_rate': trial.suggest_loguniform('learning_rate', 0.01, 0.1),\n",
            "<ipython-input-13-24a02e8ae29f>:12: FutureWarning: suggest_uniform has been deprecated in v3.0.0. This feature will be removed in v6.0.0. See https://github.com/optuna/optuna/releases/tag/v3.0.0. Use suggest_float instead.\n",
            "  'feature_fraction': trial.suggest_uniform('feature_fraction', 0.6, 0.9),\n",
            "<ipython-input-13-24a02e8ae29f>:13: FutureWarning: suggest_uniform has been deprecated in v3.0.0. This feature will be removed in v6.0.0. See https://github.com/optuna/optuna/releases/tag/v3.0.0. Use suggest_float instead.\n",
            "  'bagging_fraction': trial.suggest_uniform('bagging_fraction', 0.7, 0.9),\n",
            "<ipython-input-13-24a02e8ae29f>:14: FutureWarning: suggest_loguniform has been deprecated in v3.0.0. This feature will be removed in v6.0.0. See https://github.com/optuna/optuna/releases/tag/v3.0.0. Use suggest_float(..., log=True) instead.\n",
            "  'lambda_l1': trial.suggest_loguniform('lambda_l1', 1e-3, 10.0),\n",
            "<ipython-input-13-24a02e8ae29f>:15: FutureWarning: suggest_loguniform has been deprecated in v3.0.0. This feature will be removed in v6.0.0. See https://github.com/optuna/optuna/releases/tag/v3.0.0. Use suggest_float(..., log=True) instead.\n",
            "  'lambda_l2': trial.suggest_loguniform('lambda_l2', 1e-3, 10.0),\n"
          ]
        },
        {
          "output_type": "stream",
          "name": "stdout",
          "text": [
            "Early stopping, best iteration is:\n",
            "[193]\tvalid_0's f1: 0.966628\n",
            "Training until validation scores don't improve for 50 rounds\n",
            "Early stopping, best iteration is:\n",
            "[122]\tvalid_0's f1: 0.979358\n",
            "Training until validation scores don't improve for 50 rounds\n",
            "Early stopping, best iteration is:\n",
            "[110]\tvalid_0's f1: 0.969143\n",
            "Training until validation scores don't improve for 50 rounds\n",
            "Early stopping, best iteration is:\n",
            "[115]\tvalid_0's f1: 0.976905\n",
            "Training until validation scores don't improve for 50 rounds\n"
          ]
        },
        {
          "output_type": "stream",
          "name": "stderr",
          "text": [
            "[I 2025-02-09 14:09:34,523] Trial 28 finished with value: 0.9740170154058404 and parameters: {'num_leaves': 198, 'learning_rate': 0.08076294375989919, 'max_depth': 7, 'feature_fraction': 0.6473826936337139, 'bagging_fraction': 0.8392888675622934, 'lambda_l1': 0.031195981051674267, 'lambda_l2': 0.0029756347846046686, 'min_data_in_leaf': 40}. Best is trial 28 with value: 0.9740170154058404.\n"
          ]
        },
        {
          "output_type": "stream",
          "name": "stdout",
          "text": [
            "Early stopping, best iteration is:\n",
            "[172]\tvalid_0's f1: 0.978085\n",
            "Training until validation scores don't improve for 50 rounds\n"
          ]
        },
        {
          "output_type": "stream",
          "name": "stderr",
          "text": [
            "<ipython-input-13-24a02e8ae29f>:10: FutureWarning: suggest_loguniform has been deprecated in v3.0.0. This feature will be removed in v6.0.0. See https://github.com/optuna/optuna/releases/tag/v3.0.0. Use suggest_float(..., log=True) instead.\n",
            "  'learning_rate': trial.suggest_loguniform('learning_rate', 0.01, 0.1),\n",
            "<ipython-input-13-24a02e8ae29f>:12: FutureWarning: suggest_uniform has been deprecated in v3.0.0. This feature will be removed in v6.0.0. See https://github.com/optuna/optuna/releases/tag/v3.0.0. Use suggest_float instead.\n",
            "  'feature_fraction': trial.suggest_uniform('feature_fraction', 0.6, 0.9),\n",
            "<ipython-input-13-24a02e8ae29f>:13: FutureWarning: suggest_uniform has been deprecated in v3.0.0. This feature will be removed in v6.0.0. See https://github.com/optuna/optuna/releases/tag/v3.0.0. Use suggest_float instead.\n",
            "  'bagging_fraction': trial.suggest_uniform('bagging_fraction', 0.7, 0.9),\n",
            "<ipython-input-13-24a02e8ae29f>:14: FutureWarning: suggest_loguniform has been deprecated in v3.0.0. This feature will be removed in v6.0.0. See https://github.com/optuna/optuna/releases/tag/v3.0.0. Use suggest_float(..., log=True) instead.\n",
            "  'lambda_l1': trial.suggest_loguniform('lambda_l1', 1e-3, 10.0),\n",
            "<ipython-input-13-24a02e8ae29f>:15: FutureWarning: suggest_loguniform has been deprecated in v3.0.0. This feature will be removed in v6.0.0. See https://github.com/optuna/optuna/releases/tag/v3.0.0. Use suggest_float(..., log=True) instead.\n",
            "  'lambda_l2': trial.suggest_loguniform('lambda_l2', 1e-3, 10.0),\n"
          ]
        },
        {
          "output_type": "stream",
          "name": "stdout",
          "text": [
            "Early stopping, best iteration is:\n",
            "[16]\tvalid_0's f1: 0.950745\n",
            "Training until validation scores don't improve for 50 rounds\n",
            "Early stopping, best iteration is:\n",
            "[119]\tvalid_0's f1: 0.979358\n",
            "Training until validation scores don't improve for 50 rounds\n",
            "Early stopping, best iteration is:\n",
            "[74]\tvalid_0's f1: 0.965675\n",
            "Training until validation scores don't improve for 50 rounds\n",
            "Early stopping, best iteration is:\n",
            "[172]\tvalid_0's f1: 0.978035\n",
            "Training until validation scores don't improve for 50 rounds\n"
          ]
        },
        {
          "output_type": "stream",
          "name": "stderr",
          "text": [
            "[I 2025-02-09 14:09:41,065] Trial 29 finished with value: 0.9694182570705909 and parameters: {'num_leaves': 234, 'learning_rate': 0.041642409041016196, 'max_depth': 9, 'feature_fraction': 0.6006627453219048, 'bagging_fraction': 0.8426895179097914, 'lambda_l1': 0.018715430099552382, 'lambda_l2': 0.0021425009611624373, 'min_data_in_leaf': 20}. Best is trial 28 with value: 0.9740170154058404.\n"
          ]
        },
        {
          "output_type": "stream",
          "name": "stdout",
          "text": [
            "Early stopping, best iteration is:\n",
            "[70]\tvalid_0's f1: 0.97341\n",
            "Training until validation scores don't improve for 50 rounds\n"
          ]
        },
        {
          "output_type": "stream",
          "name": "stderr",
          "text": [
            "<ipython-input-13-24a02e8ae29f>:10: FutureWarning: suggest_loguniform has been deprecated in v3.0.0. This feature will be removed in v6.0.0. See https://github.com/optuna/optuna/releases/tag/v3.0.0. Use suggest_float(..., log=True) instead.\n",
            "  'learning_rate': trial.suggest_loguniform('learning_rate', 0.01, 0.1),\n",
            "<ipython-input-13-24a02e8ae29f>:12: FutureWarning: suggest_uniform has been deprecated in v3.0.0. This feature will be removed in v6.0.0. See https://github.com/optuna/optuna/releases/tag/v3.0.0. Use suggest_float instead.\n",
            "  'feature_fraction': trial.suggest_uniform('feature_fraction', 0.6, 0.9),\n",
            "<ipython-input-13-24a02e8ae29f>:13: FutureWarning: suggest_uniform has been deprecated in v3.0.0. This feature will be removed in v6.0.0. See https://github.com/optuna/optuna/releases/tag/v3.0.0. Use suggest_float instead.\n",
            "  'bagging_fraction': trial.suggest_uniform('bagging_fraction', 0.7, 0.9),\n",
            "<ipython-input-13-24a02e8ae29f>:14: FutureWarning: suggest_loguniform has been deprecated in v3.0.0. This feature will be removed in v6.0.0. See https://github.com/optuna/optuna/releases/tag/v3.0.0. Use suggest_float(..., log=True) instead.\n",
            "  'lambda_l1': trial.suggest_loguniform('lambda_l1', 1e-3, 10.0),\n",
            "<ipython-input-13-24a02e8ae29f>:15: FutureWarning: suggest_loguniform has been deprecated in v3.0.0. This feature will be removed in v6.0.0. See https://github.com/optuna/optuna/releases/tag/v3.0.0. Use suggest_float(..., log=True) instead.\n",
            "  'lambda_l2': trial.suggest_loguniform('lambda_l2', 1e-3, 10.0),\n"
          ]
        },
        {
          "output_type": "stream",
          "name": "stdout",
          "text": [
            "Early stopping, best iteration is:\n",
            "[116]\tvalid_0's f1: 0.964409\n",
            "Training until validation scores don't improve for 50 rounds\n",
            "Early stopping, best iteration is:\n",
            "[106]\tvalid_0's f1: 0.980527\n",
            "Training until validation scores don't improve for 50 rounds\n",
            "Early stopping, best iteration is:\n",
            "[57]\tvalid_0's f1: 0.96449\n",
            "Training until validation scores don't improve for 50 rounds\n",
            "Early stopping, best iteration is:\n",
            "[158]\tvalid_0's f1: 0.978035\n",
            "Training until validation scores don't improve for 50 rounds\n"
          ]
        },
        {
          "output_type": "stream",
          "name": "stderr",
          "text": [
            "[I 2025-02-09 14:09:44,154] Trial 30 finished with value: 0.9719540229885058 and parameters: {'num_leaves': 200, 'learning_rate': 0.08025138167128071, 'max_depth': 8, 'feature_fraction': 0.6456578617916864, 'bagging_fraction': 0.887592439126397, 'lambda_l1': 0.008725297841620317, 'lambda_l2': 0.01371548473859456, 'min_data_in_leaf': 40}. Best is trial 28 with value: 0.9740170154058404.\n"
          ]
        },
        {
          "output_type": "stream",
          "name": "stdout",
          "text": [
            "Early stopping, best iteration is:\n",
            "[61]\tvalid_0's f1: 0.97235\n",
            "Training until validation scores don't improve for 50 rounds\n"
          ]
        },
        {
          "output_type": "stream",
          "name": "stderr",
          "text": [
            "<ipython-input-13-24a02e8ae29f>:10: FutureWarning: suggest_loguniform has been deprecated in v3.0.0. This feature will be removed in v6.0.0. See https://github.com/optuna/optuna/releases/tag/v3.0.0. Use suggest_float(..., log=True) instead.\n",
            "  'learning_rate': trial.suggest_loguniform('learning_rate', 0.01, 0.1),\n",
            "<ipython-input-13-24a02e8ae29f>:12: FutureWarning: suggest_uniform has been deprecated in v3.0.0. This feature will be removed in v6.0.0. See https://github.com/optuna/optuna/releases/tag/v3.0.0. Use suggest_float instead.\n",
            "  'feature_fraction': trial.suggest_uniform('feature_fraction', 0.6, 0.9),\n",
            "<ipython-input-13-24a02e8ae29f>:13: FutureWarning: suggest_uniform has been deprecated in v3.0.0. This feature will be removed in v6.0.0. See https://github.com/optuna/optuna/releases/tag/v3.0.0. Use suggest_float instead.\n",
            "  'bagging_fraction': trial.suggest_uniform('bagging_fraction', 0.7, 0.9),\n",
            "<ipython-input-13-24a02e8ae29f>:14: FutureWarning: suggest_loguniform has been deprecated in v3.0.0. This feature will be removed in v6.0.0. See https://github.com/optuna/optuna/releases/tag/v3.0.0. Use suggest_float(..., log=True) instead.\n",
            "  'lambda_l1': trial.suggest_loguniform('lambda_l1', 1e-3, 10.0),\n",
            "<ipython-input-13-24a02e8ae29f>:15: FutureWarning: suggest_loguniform has been deprecated in v3.0.0. This feature will be removed in v6.0.0. See https://github.com/optuna/optuna/releases/tag/v3.0.0. Use suggest_float(..., log=True) instead.\n",
            "  'lambda_l2': trial.suggest_loguniform('lambda_l2', 1e-3, 10.0),\n"
          ]
        },
        {
          "output_type": "stream",
          "name": "stdout",
          "text": [
            "Early stopping, best iteration is:\n",
            "[147]\tvalid_0's f1: 0.96449\n",
            "Training until validation scores don't improve for 50 rounds\n",
            "Early stopping, best iteration is:\n",
            "[124]\tvalid_0's f1: 0.979358\n",
            "Training until validation scores don't improve for 50 rounds\n",
            "Early stopping, best iteration is:\n",
            "[211]\tvalid_0's f1: 0.970183\n",
            "Training until validation scores don't improve for 50 rounds\n",
            "Early stopping, best iteration is:\n",
            "[74]\tvalid_0's f1: 0.976905\n",
            "Training until validation scores don't improve for 50 rounds\n"
          ]
        },
        {
          "output_type": "stream",
          "name": "stderr",
          "text": [
            "[I 2025-02-09 14:09:48,046] Trial 31 finished with value: 0.973569294415077 and parameters: {'num_leaves': 168, 'learning_rate': 0.09959581873693195, 'max_depth': 7, 'feature_fraction': 0.660859668314836, 'bagging_fraction': 0.8324698425798307, 'lambda_l1': 0.03553994710010624, 'lambda_l2': 0.00445338625745202, 'min_data_in_leaf': 34}. Best is trial 28 with value: 0.9740170154058404.\n"
          ]
        },
        {
          "output_type": "stream",
          "name": "stdout",
          "text": [
            "Early stopping, best iteration is:\n",
            "[135]\tvalid_0's f1: 0.976959\n",
            "Training until validation scores don't improve for 50 rounds\n"
          ]
        },
        {
          "output_type": "stream",
          "name": "stderr",
          "text": [
            "<ipython-input-13-24a02e8ae29f>:10: FutureWarning: suggest_loguniform has been deprecated in v3.0.0. This feature will be removed in v6.0.0. See https://github.com/optuna/optuna/releases/tag/v3.0.0. Use suggest_float(..., log=True) instead.\n",
            "  'learning_rate': trial.suggest_loguniform('learning_rate', 0.01, 0.1),\n",
            "<ipython-input-13-24a02e8ae29f>:12: FutureWarning: suggest_uniform has been deprecated in v3.0.0. This feature will be removed in v6.0.0. See https://github.com/optuna/optuna/releases/tag/v3.0.0. Use suggest_float instead.\n",
            "  'feature_fraction': trial.suggest_uniform('feature_fraction', 0.6, 0.9),\n",
            "<ipython-input-13-24a02e8ae29f>:13: FutureWarning: suggest_uniform has been deprecated in v3.0.0. This feature will be removed in v6.0.0. See https://github.com/optuna/optuna/releases/tag/v3.0.0. Use suggest_float instead.\n",
            "  'bagging_fraction': trial.suggest_uniform('bagging_fraction', 0.7, 0.9),\n",
            "<ipython-input-13-24a02e8ae29f>:14: FutureWarning: suggest_loguniform has been deprecated in v3.0.0. This feature will be removed in v6.0.0. See https://github.com/optuna/optuna/releases/tag/v3.0.0. Use suggest_float(..., log=True) instead.\n",
            "  'lambda_l1': trial.suggest_loguniform('lambda_l1', 1e-3, 10.0),\n",
            "<ipython-input-13-24a02e8ae29f>:15: FutureWarning: suggest_loguniform has been deprecated in v3.0.0. This feature will be removed in v6.0.0. See https://github.com/optuna/optuna/releases/tag/v3.0.0. Use suggest_float(..., log=True) instead.\n",
            "  'lambda_l2': trial.suggest_loguniform('lambda_l2', 1e-3, 10.0),\n"
          ]
        },
        {
          "output_type": "stream",
          "name": "stdout",
          "text": [
            "Early stopping, best iteration is:\n",
            "[176]\tvalid_0's f1: 0.96893\n",
            "Training until validation scores don't improve for 50 rounds\n",
            "Early stopping, best iteration is:\n",
            "[232]\tvalid_0's f1: 0.979405\n",
            "Training until validation scores don't improve for 50 rounds\n",
            "Early stopping, best iteration is:\n",
            "[69]\tvalid_0's f1: 0.96449\n",
            "Training until validation scores don't improve for 50 rounds\n",
            "Early stopping, best iteration is:\n",
            "[119]\tvalid_0's f1: 0.979167\n",
            "Training until validation scores don't improve for 50 rounds\n"
          ]
        },
        {
          "output_type": "stream",
          "name": "stderr",
          "text": [
            "[I 2025-02-09 14:09:55,588] Trial 32 finished with value: 0.9742410303587856 and parameters: {'num_leaves': 171, 'learning_rate': 0.08056540387365017, 'max_depth': 7, 'feature_fraction': 0.6234234753246524, 'bagging_fraction': 0.8350901769307447, 'lambda_l1': 0.15587808288370886, 'lambda_l2': 0.0010000913881142053, 'min_data_in_leaf': 38}. Best is trial 32 with value: 0.9742410303587856.\n"
          ]
        },
        {
          "output_type": "stream",
          "name": "stdout",
          "text": [
            "Early stopping, best iteration is:\n",
            "[170]\tvalid_0's f1: 0.979263\n",
            "Training until validation scores don't improve for 50 rounds\n"
          ]
        },
        {
          "output_type": "stream",
          "name": "stderr",
          "text": [
            "<ipython-input-13-24a02e8ae29f>:10: FutureWarning: suggest_loguniform has been deprecated in v3.0.0. This feature will be removed in v6.0.0. See https://github.com/optuna/optuna/releases/tag/v3.0.0. Use suggest_float(..., log=True) instead.\n",
            "  'learning_rate': trial.suggest_loguniform('learning_rate', 0.01, 0.1),\n",
            "<ipython-input-13-24a02e8ae29f>:12: FutureWarning: suggest_uniform has been deprecated in v3.0.0. This feature will be removed in v6.0.0. See https://github.com/optuna/optuna/releases/tag/v3.0.0. Use suggest_float instead.\n",
            "  'feature_fraction': trial.suggest_uniform('feature_fraction', 0.6, 0.9),\n",
            "<ipython-input-13-24a02e8ae29f>:13: FutureWarning: suggest_uniform has been deprecated in v3.0.0. This feature will be removed in v6.0.0. See https://github.com/optuna/optuna/releases/tag/v3.0.0. Use suggest_float instead.\n",
            "  'bagging_fraction': trial.suggest_uniform('bagging_fraction', 0.7, 0.9),\n",
            "<ipython-input-13-24a02e8ae29f>:14: FutureWarning: suggest_loguniform has been deprecated in v3.0.0. This feature will be removed in v6.0.0. See https://github.com/optuna/optuna/releases/tag/v3.0.0. Use suggest_float(..., log=True) instead.\n",
            "  'lambda_l1': trial.suggest_loguniform('lambda_l1', 1e-3, 10.0),\n",
            "<ipython-input-13-24a02e8ae29f>:15: FutureWarning: suggest_loguniform has been deprecated in v3.0.0. This feature will be removed in v6.0.0. See https://github.com/optuna/optuna/releases/tag/v3.0.0. Use suggest_float(..., log=True) instead.\n",
            "  'lambda_l2': trial.suggest_loguniform('lambda_l2', 1e-3, 10.0),\n"
          ]
        },
        {
          "output_type": "stream",
          "name": "stdout",
          "text": [
            "Early stopping, best iteration is:\n",
            "[113]\tvalid_0's f1: 0.963303\n",
            "Training until validation scores don't improve for 50 rounds\n",
            "Early stopping, best iteration is:\n",
            "[84]\tvalid_0's f1: 0.978236\n",
            "Training until validation scores don't improve for 50 rounds\n",
            "Early stopping, best iteration is:\n",
            "[164]\tvalid_0's f1: 0.96789\n",
            "Training until validation scores don't improve for 50 rounds\n",
            "Early stopping, best iteration is:\n",
            "[112]\tvalid_0's f1: 0.978035\n",
            "Training until validation scores don't improve for 50 rounds\n"
          ]
        },
        {
          "output_type": "stream",
          "name": "stderr",
          "text": [
            "[I 2025-02-09 14:09:58,923] Trial 33 finished with value: 0.9724137931034482 and parameters: {'num_leaves': 167, 'learning_rate': 0.08251101859785016, 'max_depth': 8, 'feature_fraction': 0.6190481297820423, 'bagging_fraction': 0.828884409492511, 'lambda_l1': 0.18533006139400218, 'lambda_l2': 0.0010215140858488658, 'min_data_in_leaf': 45}. Best is trial 32 with value: 0.9742410303587856.\n"
          ]
        },
        {
          "output_type": "stream",
          "name": "stdout",
          "text": [
            "Early stopping, best iteration is:\n",
            "[110]\tvalid_0's f1: 0.974654\n",
            "Training until validation scores don't improve for 50 rounds\n"
          ]
        },
        {
          "output_type": "stream",
          "name": "stderr",
          "text": [
            "<ipython-input-13-24a02e8ae29f>:10: FutureWarning: suggest_loguniform has been deprecated in v3.0.0. This feature will be removed in v6.0.0. See https://github.com/optuna/optuna/releases/tag/v3.0.0. Use suggest_float(..., log=True) instead.\n",
            "  'learning_rate': trial.suggest_loguniform('learning_rate', 0.01, 0.1),\n",
            "<ipython-input-13-24a02e8ae29f>:12: FutureWarning: suggest_uniform has been deprecated in v3.0.0. This feature will be removed in v6.0.0. See https://github.com/optuna/optuna/releases/tag/v3.0.0. Use suggest_float instead.\n",
            "  'feature_fraction': trial.suggest_uniform('feature_fraction', 0.6, 0.9),\n",
            "<ipython-input-13-24a02e8ae29f>:13: FutureWarning: suggest_uniform has been deprecated in v3.0.0. This feature will be removed in v6.0.0. See https://github.com/optuna/optuna/releases/tag/v3.0.0. Use suggest_float instead.\n",
            "  'bagging_fraction': trial.suggest_uniform('bagging_fraction', 0.7, 0.9),\n",
            "<ipython-input-13-24a02e8ae29f>:14: FutureWarning: suggest_loguniform has been deprecated in v3.0.0. This feature will be removed in v6.0.0. See https://github.com/optuna/optuna/releases/tag/v3.0.0. Use suggest_float(..., log=True) instead.\n",
            "  'lambda_l1': trial.suggest_loguniform('lambda_l1', 1e-3, 10.0),\n",
            "<ipython-input-13-24a02e8ae29f>:15: FutureWarning: suggest_loguniform has been deprecated in v3.0.0. This feature will be removed in v6.0.0. See https://github.com/optuna/optuna/releases/tag/v3.0.0. Use suggest_float(..., log=True) instead.\n",
            "  'lambda_l2': trial.suggest_loguniform('lambda_l2', 1e-3, 10.0),\n"
          ]
        },
        {
          "output_type": "stream",
          "name": "stdout",
          "text": [
            "Early stopping, best iteration is:\n",
            "[3]\tvalid_0's f1: 0.941847\n",
            "Training until validation scores don't improve for 50 rounds\n",
            "Early stopping, best iteration is:\n",
            "[116]\tvalid_0's f1: 0.976\n",
            "Training until validation scores don't improve for 50 rounds\n",
            "Early stopping, best iteration is:\n",
            "[188]\tvalid_0's f1: 0.96789\n",
            "Training until validation scores don't improve for 50 rounds\n",
            "Early stopping, best iteration is:\n",
            "[230]\tvalid_0's f1: 0.975834\n",
            "Training until validation scores don't improve for 50 rounds\n"
          ]
        },
        {
          "output_type": "stream",
          "name": "stderr",
          "text": [
            "[I 2025-02-09 14:10:02,471] Trial 34 finished with value: 0.9669724770642202 and parameters: {'num_leaves': 183, 'learning_rate': 0.06695801757070648, 'max_depth': 7, 'feature_fraction': 0.6564059435349624, 'bagging_fraction': 0.8687842309968207, 'lambda_l1': 0.4644811237207983, 'lambda_l2': 0.0037848808584887263, 'min_data_in_leaf': 62}. Best is trial 32 with value: 0.9742410303587856.\n"
          ]
        },
        {
          "output_type": "stream",
          "name": "stdout",
          "text": [
            "Early stopping, best iteration is:\n",
            "[132]\tvalid_0's f1: 0.973472\n",
            "Training until validation scores don't improve for 50 rounds\n"
          ]
        },
        {
          "output_type": "stream",
          "name": "stderr",
          "text": [
            "<ipython-input-13-24a02e8ae29f>:10: FutureWarning: suggest_loguniform has been deprecated in v3.0.0. This feature will be removed in v6.0.0. See https://github.com/optuna/optuna/releases/tag/v3.0.0. Use suggest_float(..., log=True) instead.\n",
            "  'learning_rate': trial.suggest_loguniform('learning_rate', 0.01, 0.1),\n",
            "<ipython-input-13-24a02e8ae29f>:12: FutureWarning: suggest_uniform has been deprecated in v3.0.0. This feature will be removed in v6.0.0. See https://github.com/optuna/optuna/releases/tag/v3.0.0. Use suggest_float instead.\n",
            "  'feature_fraction': trial.suggest_uniform('feature_fraction', 0.6, 0.9),\n",
            "<ipython-input-13-24a02e8ae29f>:13: FutureWarning: suggest_uniform has been deprecated in v3.0.0. This feature will be removed in v6.0.0. See https://github.com/optuna/optuna/releases/tag/v3.0.0. Use suggest_float instead.\n",
            "  'bagging_fraction': trial.suggest_uniform('bagging_fraction', 0.7, 0.9),\n",
            "<ipython-input-13-24a02e8ae29f>:14: FutureWarning: suggest_loguniform has been deprecated in v3.0.0. This feature will be removed in v6.0.0. See https://github.com/optuna/optuna/releases/tag/v3.0.0. Use suggest_float(..., log=True) instead.\n",
            "  'lambda_l1': trial.suggest_loguniform('lambda_l1', 1e-3, 10.0),\n",
            "<ipython-input-13-24a02e8ae29f>:15: FutureWarning: suggest_loguniform has been deprecated in v3.0.0. This feature will be removed in v6.0.0. See https://github.com/optuna/optuna/releases/tag/v3.0.0. Use suggest_float(..., log=True) instead.\n",
            "  'lambda_l2': trial.suggest_loguniform('lambda_l2', 1e-3, 10.0),\n"
          ]
        },
        {
          "output_type": "stream",
          "name": "stdout",
          "text": [
            "Early stopping, best iteration is:\n",
            "[155]\tvalid_0's f1: 0.967816\n",
            "Training until validation scores don't improve for 50 rounds\n",
            "Early stopping, best iteration is:\n",
            "[96]\tvalid_0's f1: 0.977064\n",
            "Training until validation scores don't improve for 50 rounds\n",
            "Early stopping, best iteration is:\n",
            "[125]\tvalid_0's f1: 0.965753\n",
            "Training until validation scores don't improve for 50 rounds\n",
            "Early stopping, best iteration is:\n",
            "[93]\tvalid_0's f1: 0.976905\n",
            "Training until validation scores don't improve for 50 rounds\n"
          ]
        },
        {
          "output_type": "stream",
          "name": "stderr",
          "text": [
            "[I 2025-02-09 14:10:09,587] Trial 35 finished with value: 0.9731219848380427 and parameters: {'num_leaves': 202, 'learning_rate': 0.08275572642338468, 'max_depth': 10, 'feature_fraction': 0.6289217386265292, 'bagging_fraction': 0.8154498592370822, 'lambda_l1': 0.12320239126336864, 'lambda_l2': 0.0015592571968849858, 'min_data_in_leaf': 38}. Best is trial 32 with value: 0.9742410303587856.\n"
          ]
        },
        {
          "output_type": "stream",
          "name": "stdout",
          "text": [
            "Early stopping, best iteration is:\n",
            "[144]\tvalid_0's f1: 0.978136\n",
            "Training until validation scores don't improve for 50 rounds\n"
          ]
        },
        {
          "output_type": "stream",
          "name": "stderr",
          "text": [
            "<ipython-input-13-24a02e8ae29f>:10: FutureWarning: suggest_loguniform has been deprecated in v3.0.0. This feature will be removed in v6.0.0. See https://github.com/optuna/optuna/releases/tag/v3.0.0. Use suggest_float(..., log=True) instead.\n",
            "  'learning_rate': trial.suggest_loguniform('learning_rate', 0.01, 0.1),\n",
            "<ipython-input-13-24a02e8ae29f>:12: FutureWarning: suggest_uniform has been deprecated in v3.0.0. This feature will be removed in v6.0.0. See https://github.com/optuna/optuna/releases/tag/v3.0.0. Use suggest_float instead.\n",
            "  'feature_fraction': trial.suggest_uniform('feature_fraction', 0.6, 0.9),\n",
            "<ipython-input-13-24a02e8ae29f>:13: FutureWarning: suggest_uniform has been deprecated in v3.0.0. This feature will be removed in v6.0.0. See https://github.com/optuna/optuna/releases/tag/v3.0.0. Use suggest_float instead.\n",
            "  'bagging_fraction': trial.suggest_uniform('bagging_fraction', 0.7, 0.9),\n",
            "<ipython-input-13-24a02e8ae29f>:14: FutureWarning: suggest_loguniform has been deprecated in v3.0.0. This feature will be removed in v6.0.0. See https://github.com/optuna/optuna/releases/tag/v3.0.0. Use suggest_float(..., log=True) instead.\n",
            "  'lambda_l1': trial.suggest_loguniform('lambda_l1', 1e-3, 10.0),\n",
            "<ipython-input-13-24a02e8ae29f>:15: FutureWarning: suggest_loguniform has been deprecated in v3.0.0. This feature will be removed in v6.0.0. See https://github.com/optuna/optuna/releases/tag/v3.0.0. Use suggest_float(..., log=True) instead.\n",
            "  'lambda_l2': trial.suggest_loguniform('lambda_l2', 1e-3, 10.0),\n"
          ]
        },
        {
          "output_type": "stream",
          "name": "stdout",
          "text": [
            "Early stopping, best iteration is:\n",
            "[183]\tvalid_0's f1: 0.963303\n",
            "Training until validation scores don't improve for 50 rounds\n",
            "Early stopping, best iteration is:\n",
            "[191]\tvalid_0's f1: 0.978236\n",
            "Training until validation scores don't improve for 50 rounds\n",
            "Early stopping, best iteration is:\n",
            "[176]\tvalid_0's f1: 0.969001\n",
            "Training until validation scores don't improve for 50 rounds\n",
            "Early stopping, best iteration is:\n",
            "[163]\tvalid_0's f1: 0.976798\n",
            "Training until validation scores don't improve for 50 rounds\n"
          ]
        },
        {
          "output_type": "stream",
          "name": "stderr",
          "text": [
            "[I 2025-02-09 14:10:14,314] Trial 36 finished with value: 0.9735327963176065 and parameters: {'num_leaves': 171, 'learning_rate': 0.07418218408893416, 'max_depth': 7, 'feature_fraction': 0.6750992272378352, 'bagging_fraction': 0.8479179251313463, 'lambda_l1': 0.0019725457152838305, 'lambda_l2': 0.001990383986628064, 'min_data_in_leaf': 53}. Best is trial 32 with value: 0.9742410303587856.\n"
          ]
        },
        {
          "output_type": "stream",
          "name": "stdout",
          "text": [
            "Early stopping, best iteration is:\n",
            "[241]\tvalid_0's f1: 0.980392\n",
            "Training until validation scores don't improve for 50 rounds\n"
          ]
        },
        {
          "output_type": "stream",
          "name": "stderr",
          "text": [
            "<ipython-input-13-24a02e8ae29f>:10: FutureWarning: suggest_loguniform has been deprecated in v3.0.0. This feature will be removed in v6.0.0. See https://github.com/optuna/optuna/releases/tag/v3.0.0. Use suggest_float(..., log=True) instead.\n",
            "  'learning_rate': trial.suggest_loguniform('learning_rate', 0.01, 0.1),\n",
            "<ipython-input-13-24a02e8ae29f>:12: FutureWarning: suggest_uniform has been deprecated in v3.0.0. This feature will be removed in v6.0.0. See https://github.com/optuna/optuna/releases/tag/v3.0.0. Use suggest_float instead.\n",
            "  'feature_fraction': trial.suggest_uniform('feature_fraction', 0.6, 0.9),\n",
            "<ipython-input-13-24a02e8ae29f>:13: FutureWarning: suggest_uniform has been deprecated in v3.0.0. This feature will be removed in v6.0.0. See https://github.com/optuna/optuna/releases/tag/v3.0.0. Use suggest_float instead.\n",
            "  'bagging_fraction': trial.suggest_uniform('bagging_fraction', 0.7, 0.9),\n",
            "<ipython-input-13-24a02e8ae29f>:14: FutureWarning: suggest_loguniform has been deprecated in v3.0.0. This feature will be removed in v6.0.0. See https://github.com/optuna/optuna/releases/tag/v3.0.0. Use suggest_float(..., log=True) instead.\n",
            "  'lambda_l1': trial.suggest_loguniform('lambda_l1', 1e-3, 10.0),\n",
            "<ipython-input-13-24a02e8ae29f>:15: FutureWarning: suggest_loguniform has been deprecated in v3.0.0. This feature will be removed in v6.0.0. See https://github.com/optuna/optuna/releases/tag/v3.0.0. Use suggest_float(..., log=True) instead.\n",
            "  'lambda_l2': trial.suggest_loguniform('lambda_l2', 1e-3, 10.0),\n"
          ]
        },
        {
          "output_type": "stream",
          "name": "stdout",
          "text": [
            "Early stopping, best iteration is:\n",
            "[229]\tvalid_0's f1: 0.963218\n",
            "Training until validation scores don't improve for 50 rounds\n",
            "Early stopping, best iteration is:\n",
            "[195]\tvalid_0's f1: 0.979358\n",
            "Training until validation scores don't improve for 50 rounds\n",
            "Early stopping, best iteration is:\n",
            "[59]\tvalid_0's f1: 0.962286\n",
            "Training until validation scores don't improve for 50 rounds\n",
            "Early stopping, best iteration is:\n",
            "[188]\tvalid_0's f1: 0.976905\n",
            "Training until validation scores don't improve for 50 rounds\n"
          ]
        },
        {
          "output_type": "stream",
          "name": "stderr",
          "text": [
            "[I 2025-02-09 14:10:19,103] Trial 37 finished with value: 0.9710610932475884 and parameters: {'num_leaves': 236, 'learning_rate': 0.05534382111327294, 'max_depth': 10, 'feature_fraction': 0.6466356788546123, 'bagging_fraction': 0.7114590984512275, 'lambda_l1': 0.2804205414021292, 'lambda_l2': 1.755663821778458, 'min_data_in_leaf': 28}. Best is trial 32 with value: 0.9742410303587856.\n"
          ]
        },
        {
          "output_type": "stream",
          "name": "stdout",
          "text": [
            "Early stopping, best iteration is:\n",
            "[109]\tvalid_0's f1: 0.973594\n"
          ]
        },
        {
          "output_type": "stream",
          "name": "stderr",
          "text": [
            "<ipython-input-13-24a02e8ae29f>:10: FutureWarning: suggest_loguniform has been deprecated in v3.0.0. This feature will be removed in v6.0.0. See https://github.com/optuna/optuna/releases/tag/v3.0.0. Use suggest_float(..., log=True) instead.\n",
            "  'learning_rate': trial.suggest_loguniform('learning_rate', 0.01, 0.1),\n",
            "<ipython-input-13-24a02e8ae29f>:12: FutureWarning: suggest_uniform has been deprecated in v3.0.0. This feature will be removed in v6.0.0. See https://github.com/optuna/optuna/releases/tag/v3.0.0. Use suggest_float instead.\n",
            "  'feature_fraction': trial.suggest_uniform('feature_fraction', 0.6, 0.9),\n",
            "<ipython-input-13-24a02e8ae29f>:13: FutureWarning: suggest_uniform has been deprecated in v3.0.0. This feature will be removed in v6.0.0. See https://github.com/optuna/optuna/releases/tag/v3.0.0. Use suggest_float instead.\n",
            "  'bagging_fraction': trial.suggest_uniform('bagging_fraction', 0.7, 0.9),\n",
            "<ipython-input-13-24a02e8ae29f>:14: FutureWarning: suggest_loguniform has been deprecated in v3.0.0. This feature will be removed in v6.0.0. See https://github.com/optuna/optuna/releases/tag/v3.0.0. Use suggest_float(..., log=True) instead.\n",
            "  'lambda_l1': trial.suggest_loguniform('lambda_l1', 1e-3, 10.0),\n",
            "<ipython-input-13-24a02e8ae29f>:15: FutureWarning: suggest_loguniform has been deprecated in v3.0.0. This feature will be removed in v6.0.0. See https://github.com/optuna/optuna/releases/tag/v3.0.0. Use suggest_float(..., log=True) instead.\n",
            "  'lambda_l2': trial.suggest_loguniform('lambda_l2', 1e-3, 10.0),\n"
          ]
        },
        {
          "output_type": "stream",
          "name": "stdout",
          "text": [
            "Training until validation scores don't improve for 50 rounds\n",
            "Early stopping, best iteration is:\n",
            "[157]\tvalid_0's f1: 0.965517\n",
            "Training until validation scores don't improve for 50 rounds\n",
            "Early stopping, best iteration is:\n",
            "[160]\tvalid_0's f1: 0.97931\n",
            "Training until validation scores don't improve for 50 rounds\n",
            "Early stopping, best iteration is:\n",
            "[51]\tvalid_0's f1: 0.961187\n",
            "Training until validation scores don't improve for 50 rounds\n",
            "Early stopping, best iteration is:\n",
            "[108]\tvalid_0's f1: 0.975666\n",
            "Training until validation scores don't improve for 50 rounds\n"
          ]
        },
        {
          "output_type": "stream",
          "name": "stderr",
          "text": [
            "[I 2025-02-09 14:10:27,900] Trial 38 finished with value: 0.9712577604046907 and parameters: {'num_leaves': 218, 'learning_rate': 0.08457958477438168, 'max_depth': 7, 'feature_fraction': 0.6316688240910031, 'bagging_fraction': 0.8072791438546438, 'lambda_l1': 0.9277108420276177, 'lambda_l2': 0.27497568277257467, 'min_data_in_leaf': 19}. Best is trial 32 with value: 0.9742410303587856.\n"
          ]
        },
        {
          "output_type": "stream",
          "name": "stdout",
          "text": [
            "Early stopping, best iteration is:\n",
            "[117]\tvalid_0's f1: 0.974713\n",
            "Training until validation scores don't improve for 50 rounds\n"
          ]
        },
        {
          "output_type": "stream",
          "name": "stderr",
          "text": [
            "<ipython-input-13-24a02e8ae29f>:10: FutureWarning: suggest_loguniform has been deprecated in v3.0.0. This feature will be removed in v6.0.0. See https://github.com/optuna/optuna/releases/tag/v3.0.0. Use suggest_float(..., log=True) instead.\n",
            "  'learning_rate': trial.suggest_loguniform('learning_rate', 0.01, 0.1),\n",
            "<ipython-input-13-24a02e8ae29f>:12: FutureWarning: suggest_uniform has been deprecated in v3.0.0. This feature will be removed in v6.0.0. See https://github.com/optuna/optuna/releases/tag/v3.0.0. Use suggest_float instead.\n",
            "  'feature_fraction': trial.suggest_uniform('feature_fraction', 0.6, 0.9),\n",
            "<ipython-input-13-24a02e8ae29f>:13: FutureWarning: suggest_uniform has been deprecated in v3.0.0. This feature will be removed in v6.0.0. See https://github.com/optuna/optuna/releases/tag/v3.0.0. Use suggest_float instead.\n",
            "  'bagging_fraction': trial.suggest_uniform('bagging_fraction', 0.7, 0.9),\n",
            "<ipython-input-13-24a02e8ae29f>:14: FutureWarning: suggest_loguniform has been deprecated in v3.0.0. This feature will be removed in v6.0.0. See https://github.com/optuna/optuna/releases/tag/v3.0.0. Use suggest_float(..., log=True) instead.\n",
            "  'lambda_l1': trial.suggest_loguniform('lambda_l1', 1e-3, 10.0),\n",
            "<ipython-input-13-24a02e8ae29f>:15: FutureWarning: suggest_loguniform has been deprecated in v3.0.0. This feature will be removed in v6.0.0. See https://github.com/optuna/optuna/releases/tag/v3.0.0. Use suggest_float(..., log=True) instead.\n",
            "  'lambda_l2': trial.suggest_loguniform('lambda_l2', 1e-3, 10.0),\n"
          ]
        },
        {
          "output_type": "stream",
          "name": "stdout",
          "text": [
            "Early stopping, best iteration is:\n",
            "[115]\tvalid_0's f1: 0.964409\n",
            "Training until validation scores don't improve for 50 rounds\n",
            "Early stopping, best iteration is:\n",
            "[151]\tvalid_0's f1: 0.980527\n",
            "Training until validation scores don't improve for 50 rounds\n",
            "Early stopping, best iteration is:\n",
            "[78]\tvalid_0's f1: 0.961009\n",
            "Training until validation scores don't improve for 50 rounds\n",
            "Early stopping, best iteration is:\n",
            "[153]\tvalid_0's f1: 0.976905\n",
            "Training until validation scores don't improve for 50 rounds\n"
          ]
        },
        {
          "output_type": "stream",
          "name": "stderr",
          "text": [
            "[I 2025-02-09 14:10:31,585] Trial 39 finished with value: 0.9724011039558418 and parameters: {'num_leaves': 203, 'learning_rate': 0.06653807774094118, 'max_depth': 9, 'feature_fraction': 0.6141978252299994, 'bagging_fraction': 0.7896917678737237, 'lambda_l1': 0.12801947740945488, 'lambda_l2': 0.0010244952376313194, 'min_data_in_leaf': 62}. Best is trial 32 with value: 0.9742410303587856.\n"
          ]
        },
        {
          "output_type": "stream",
          "name": "stdout",
          "text": [
            "Early stopping, best iteration is:\n",
            "[190]\tvalid_0's f1: 0.979215\n",
            "Training until validation scores don't improve for 50 rounds\n"
          ]
        },
        {
          "output_type": "stream",
          "name": "stderr",
          "text": [
            "<ipython-input-13-24a02e8ae29f>:10: FutureWarning: suggest_loguniform has been deprecated in v3.0.0. This feature will be removed in v6.0.0. See https://github.com/optuna/optuna/releases/tag/v3.0.0. Use suggest_float(..., log=True) instead.\n",
            "  'learning_rate': trial.suggest_loguniform('learning_rate', 0.01, 0.1),\n",
            "<ipython-input-13-24a02e8ae29f>:12: FutureWarning: suggest_uniform has been deprecated in v3.0.0. This feature will be removed in v6.0.0. See https://github.com/optuna/optuna/releases/tag/v3.0.0. Use suggest_float instead.\n",
            "  'feature_fraction': trial.suggest_uniform('feature_fraction', 0.6, 0.9),\n",
            "<ipython-input-13-24a02e8ae29f>:13: FutureWarning: suggest_uniform has been deprecated in v3.0.0. This feature will be removed in v6.0.0. See https://github.com/optuna/optuna/releases/tag/v3.0.0. Use suggest_float instead.\n",
            "  'bagging_fraction': trial.suggest_uniform('bagging_fraction', 0.7, 0.9),\n",
            "<ipython-input-13-24a02e8ae29f>:14: FutureWarning: suggest_loguniform has been deprecated in v3.0.0. This feature will be removed in v6.0.0. See https://github.com/optuna/optuna/releases/tag/v3.0.0. Use suggest_float(..., log=True) instead.\n",
            "  'lambda_l1': trial.suggest_loguniform('lambda_l1', 1e-3, 10.0),\n",
            "<ipython-input-13-24a02e8ae29f>:15: FutureWarning: suggest_loguniform has been deprecated in v3.0.0. This feature will be removed in v6.0.0. See https://github.com/optuna/optuna/releases/tag/v3.0.0. Use suggest_float(..., log=True) instead.\n",
            "  'lambda_l2': trial.suggest_loguniform('lambda_l2', 1e-3, 10.0),\n"
          ]
        },
        {
          "output_type": "stream",
          "name": "stdout",
          "text": [
            "Early stopping, best iteration is:\n",
            "[16]\tvalid_0's f1: 0.942529\n",
            "Training until validation scores don't improve for 50 rounds\n",
            "Early stopping, best iteration is:\n",
            "[6]\tvalid_0's f1: 0.948546\n",
            "Training until validation scores don't improve for 50 rounds\n",
            "Early stopping, best iteration is:\n",
            "[104]\tvalid_0's f1: 0.950226\n",
            "Training until validation scores don't improve for 50 rounds\n",
            "Early stopping, best iteration is:\n",
            "[7]\tvalid_0's f1: 0.952928\n",
            "Training until validation scores don't improve for 50 rounds\n"
          ]
        },
        {
          "output_type": "stream",
          "name": "stderr",
          "text": [
            "[I 2025-02-09 14:10:33,330] Trial 40 finished with value: 0.9488054607508533 and parameters: {'num_leaves': 255, 'learning_rate': 0.013298781809829841, 'max_depth': 8, 'feature_fraction': 0.6550271247098743, 'bagging_fraction': 0.8604199499988279, 'lambda_l1': 0.008104623196689116, 'lambda_l2': 0.009184323421592103, 'min_data_in_leaf': 46}. Best is trial 32 with value: 0.9742410303587856.\n"
          ]
        },
        {
          "output_type": "stream",
          "name": "stdout",
          "text": [
            "Early stopping, best iteration is:\n",
            "[16]\tvalid_0's f1: 0.949772\n",
            "Training until validation scores don't improve for 50 rounds\n"
          ]
        },
        {
          "output_type": "stream",
          "name": "stderr",
          "text": [
            "<ipython-input-13-24a02e8ae29f>:10: FutureWarning: suggest_loguniform has been deprecated in v3.0.0. This feature will be removed in v6.0.0. See https://github.com/optuna/optuna/releases/tag/v3.0.0. Use suggest_float(..., log=True) instead.\n",
            "  'learning_rate': trial.suggest_loguniform('learning_rate', 0.01, 0.1),\n",
            "<ipython-input-13-24a02e8ae29f>:12: FutureWarning: suggest_uniform has been deprecated in v3.0.0. This feature will be removed in v6.0.0. See https://github.com/optuna/optuna/releases/tag/v3.0.0. Use suggest_float instead.\n",
            "  'feature_fraction': trial.suggest_uniform('feature_fraction', 0.6, 0.9),\n",
            "<ipython-input-13-24a02e8ae29f>:13: FutureWarning: suggest_uniform has been deprecated in v3.0.0. This feature will be removed in v6.0.0. See https://github.com/optuna/optuna/releases/tag/v3.0.0. Use suggest_float instead.\n",
            "  'bagging_fraction': trial.suggest_uniform('bagging_fraction', 0.7, 0.9),\n",
            "<ipython-input-13-24a02e8ae29f>:14: FutureWarning: suggest_loguniform has been deprecated in v3.0.0. This feature will be removed in v6.0.0. See https://github.com/optuna/optuna/releases/tag/v3.0.0. Use suggest_float(..., log=True) instead.\n",
            "  'lambda_l1': trial.suggest_loguniform('lambda_l1', 1e-3, 10.0),\n",
            "<ipython-input-13-24a02e8ae29f>:15: FutureWarning: suggest_loguniform has been deprecated in v3.0.0. This feature will be removed in v6.0.0. See https://github.com/optuna/optuna/releases/tag/v3.0.0. Use suggest_float(..., log=True) instead.\n",
            "  'lambda_l2': trial.suggest_loguniform('lambda_l2', 1e-3, 10.0),\n"
          ]
        },
        {
          "output_type": "stream",
          "name": "stdout",
          "text": [
            "Early stopping, best iteration is:\n",
            "[240]\tvalid_0's f1: 0.967742\n",
            "Training until validation scores don't improve for 50 rounds\n",
            "Early stopping, best iteration is:\n",
            "[144]\tvalid_0's f1: 0.978236\n",
            "Training until validation scores don't improve for 50 rounds\n",
            "Early stopping, best iteration is:\n",
            "[73]\tvalid_0's f1: 0.962113\n",
            "Training until validation scores don't improve for 50 rounds\n",
            "Early stopping, best iteration is:\n",
            "[87]\tvalid_0's f1: 0.974596\n",
            "Training until validation scores don't improve for 50 rounds\n"
          ]
        },
        {
          "output_type": "stream",
          "name": "stderr",
          "text": [
            "[I 2025-02-09 14:10:37,544] Trial 41 finished with value: 0.9707844490453186 and parameters: {'num_leaves': 167, 'learning_rate': 0.07500870478821635, 'max_depth': 7, 'feature_fraction': 0.675933601858026, 'bagging_fraction': 0.8553187715274239, 'lambda_l1': 0.0018315362034173153, 'lambda_l2': 0.002022214221873499, 'min_data_in_leaf': 56}. Best is trial 32 with value: 0.9742410303587856.\n"
          ]
        },
        {
          "output_type": "stream",
          "name": "stdout",
          "text": [
            "Early stopping, best iteration is:\n",
            "[96]\tvalid_0's f1: 0.971231\n"
          ]
        },
        {
          "output_type": "stream",
          "name": "stderr",
          "text": [
            "<ipython-input-13-24a02e8ae29f>:10: FutureWarning: suggest_loguniform has been deprecated in v3.0.0. This feature will be removed in v6.0.0. See https://github.com/optuna/optuna/releases/tag/v3.0.0. Use suggest_float(..., log=True) instead.\n",
            "  'learning_rate': trial.suggest_loguniform('learning_rate', 0.01, 0.1),\n",
            "<ipython-input-13-24a02e8ae29f>:12: FutureWarning: suggest_uniform has been deprecated in v3.0.0. This feature will be removed in v6.0.0. See https://github.com/optuna/optuna/releases/tag/v3.0.0. Use suggest_float instead.\n",
            "  'feature_fraction': trial.suggest_uniform('feature_fraction', 0.6, 0.9),\n",
            "<ipython-input-13-24a02e8ae29f>:13: FutureWarning: suggest_uniform has been deprecated in v3.0.0. This feature will be removed in v6.0.0. See https://github.com/optuna/optuna/releases/tag/v3.0.0. Use suggest_float instead.\n",
            "  'bagging_fraction': trial.suggest_uniform('bagging_fraction', 0.7, 0.9),\n",
            "<ipython-input-13-24a02e8ae29f>:14: FutureWarning: suggest_loguniform has been deprecated in v3.0.0. This feature will be removed in v6.0.0. See https://github.com/optuna/optuna/releases/tag/v3.0.0. Use suggest_float(..., log=True) instead.\n",
            "  'lambda_l1': trial.suggest_loguniform('lambda_l1', 1e-3, 10.0),\n",
            "<ipython-input-13-24a02e8ae29f>:15: FutureWarning: suggest_loguniform has been deprecated in v3.0.0. This feature will be removed in v6.0.0. See https://github.com/optuna/optuna/releases/tag/v3.0.0. Use suggest_float(..., log=True) instead.\n",
            "  'lambda_l2': trial.suggest_loguniform('lambda_l2', 1e-3, 10.0),\n"
          ]
        },
        {
          "output_type": "stream",
          "name": "stdout",
          "text": [
            "Training until validation scores don't improve for 50 rounds\n",
            "Early stopping, best iteration is:\n",
            "[82]\tvalid_0's f1: 0.959816\n",
            "Training until validation scores don't improve for 50 rounds\n",
            "Early stopping, best iteration is:\n",
            "[122]\tvalid_0's f1: 0.980482\n",
            "Training until validation scores don't improve for 50 rounds\n",
            "Early stopping, best iteration is:\n",
            "[163]\tvalid_0's f1: 0.96789\n",
            "Training until validation scores don't improve for 50 rounds\n",
            "Early stopping, best iteration is:\n",
            "[115]\tvalid_0's f1: 0.979167\n",
            "Training until validation scores don't improve for 50 rounds\n"
          ]
        },
        {
          "output_type": "stream",
          "name": "stderr",
          "text": [
            "[I 2025-02-09 14:10:43,175] Trial 42 finished with value: 0.9724011039558418 and parameters: {'num_leaves': 136, 'learning_rate': 0.07267785191848979, 'max_depth': 8, 'feature_fraction': 0.6367247524920101, 'bagging_fraction': 0.834325247005078, 'lambda_l1': 0.0027056159234462407, 'lambda_l2': 0.003931158152560709, 'min_data_in_leaf': 53}. Best is trial 32 with value: 0.9742410303587856.\n"
          ]
        },
        {
          "output_type": "stream",
          "name": "stdout",
          "text": [
            "Early stopping, best iteration is:\n",
            "[141]\tvalid_0's f1: 0.974713\n",
            "Training until validation scores don't improve for 50 rounds\n"
          ]
        },
        {
          "output_type": "stream",
          "name": "stderr",
          "text": [
            "<ipython-input-13-24a02e8ae29f>:10: FutureWarning: suggest_loguniform has been deprecated in v3.0.0. This feature will be removed in v6.0.0. See https://github.com/optuna/optuna/releases/tag/v3.0.0. Use suggest_float(..., log=True) instead.\n",
            "  'learning_rate': trial.suggest_loguniform('learning_rate', 0.01, 0.1),\n",
            "<ipython-input-13-24a02e8ae29f>:12: FutureWarning: suggest_uniform has been deprecated in v3.0.0. This feature will be removed in v6.0.0. See https://github.com/optuna/optuna/releases/tag/v3.0.0. Use suggest_float instead.\n",
            "  'feature_fraction': trial.suggest_uniform('feature_fraction', 0.6, 0.9),\n",
            "<ipython-input-13-24a02e8ae29f>:13: FutureWarning: suggest_uniform has been deprecated in v3.0.0. This feature will be removed in v6.0.0. See https://github.com/optuna/optuna/releases/tag/v3.0.0. Use suggest_float instead.\n",
            "  'bagging_fraction': trial.suggest_uniform('bagging_fraction', 0.7, 0.9),\n",
            "<ipython-input-13-24a02e8ae29f>:14: FutureWarning: suggest_loguniform has been deprecated in v3.0.0. This feature will be removed in v6.0.0. See https://github.com/optuna/optuna/releases/tag/v3.0.0. Use suggest_float(..., log=True) instead.\n",
            "  'lambda_l1': trial.suggest_loguniform('lambda_l1', 1e-3, 10.0),\n",
            "<ipython-input-13-24a02e8ae29f>:15: FutureWarning: suggest_loguniform has been deprecated in v3.0.0. This feature will be removed in v6.0.0. See https://github.com/optuna/optuna/releases/tag/v3.0.0. Use suggest_float(..., log=True) instead.\n",
            "  'lambda_l2': trial.suggest_loguniform('lambda_l2', 1e-3, 10.0),\n"
          ]
        },
        {
          "output_type": "stream",
          "name": "stdout",
          "text": [
            "Early stopping, best iteration is:\n",
            "[171]\tvalid_0's f1: 0.964409\n",
            "Training until validation scores don't improve for 50 rounds\n",
            "Early stopping, best iteration is:\n",
            "[113]\tvalid_0's f1: 0.978236\n",
            "Training until validation scores don't improve for 50 rounds\n",
            "Early stopping, best iteration is:\n",
            "[171]\tvalid_0's f1: 0.970046\n",
            "Training until validation scores don't improve for 50 rounds\n",
            "Early stopping, best iteration is:\n",
            "[108]\tvalid_0's f1: 0.976905\n",
            "Training until validation scores don't improve for 50 rounds\n"
          ]
        },
        {
          "output_type": "stream",
          "name": "stderr",
          "text": [
            "[I 2025-02-09 14:10:46,943] Trial 43 finished with value: 0.9730848861283644 and parameters: {'num_leaves': 175, 'learning_rate': 0.0843056062758355, 'max_depth': 7, 'feature_fraction': 0.6862635065151913, 'bagging_fraction': 0.8485475811782457, 'lambda_l1': 0.0017382081387209095, 'lambda_l2': 0.0020568233445933163, 'min_data_in_leaf': 38}. Best is trial 32 with value: 0.9742410303587856.\n"
          ]
        },
        {
          "output_type": "stream",
          "name": "stdout",
          "text": [
            "Early stopping, best iteration is:\n",
            "[106]\tvalid_0's f1: 0.975834\n",
            "Training until validation scores don't improve for 50 rounds\n"
          ]
        },
        {
          "output_type": "stream",
          "name": "stderr",
          "text": [
            "<ipython-input-13-24a02e8ae29f>:10: FutureWarning: suggest_loguniform has been deprecated in v3.0.0. This feature will be removed in v6.0.0. See https://github.com/optuna/optuna/releases/tag/v3.0.0. Use suggest_float(..., log=True) instead.\n",
            "  'learning_rate': trial.suggest_loguniform('learning_rate', 0.01, 0.1),\n",
            "<ipython-input-13-24a02e8ae29f>:12: FutureWarning: suggest_uniform has been deprecated in v3.0.0. This feature will be removed in v6.0.0. See https://github.com/optuna/optuna/releases/tag/v3.0.0. Use suggest_float instead.\n",
            "  'feature_fraction': trial.suggest_uniform('feature_fraction', 0.6, 0.9),\n",
            "<ipython-input-13-24a02e8ae29f>:13: FutureWarning: suggest_uniform has been deprecated in v3.0.0. This feature will be removed in v6.0.0. See https://github.com/optuna/optuna/releases/tag/v3.0.0. Use suggest_float instead.\n",
            "  'bagging_fraction': trial.suggest_uniform('bagging_fraction', 0.7, 0.9),\n",
            "<ipython-input-13-24a02e8ae29f>:14: FutureWarning: suggest_loguniform has been deprecated in v3.0.0. This feature will be removed in v6.0.0. See https://github.com/optuna/optuna/releases/tag/v3.0.0. Use suggest_float(..., log=True) instead.\n",
            "  'lambda_l1': trial.suggest_loguniform('lambda_l1', 1e-3, 10.0),\n",
            "<ipython-input-13-24a02e8ae29f>:15: FutureWarning: suggest_loguniform has been deprecated in v3.0.0. This feature will be removed in v6.0.0. See https://github.com/optuna/optuna/releases/tag/v3.0.0. Use suggest_float(..., log=True) instead.\n",
            "  'lambda_l2': trial.suggest_loguniform('lambda_l2', 1e-3, 10.0),\n"
          ]
        },
        {
          "output_type": "stream",
          "name": "stdout",
          "text": [
            "Early stopping, best iteration is:\n",
            "[225]\tvalid_0's f1: 0.963218\n",
            "Training until validation scores don't improve for 50 rounds\n",
            "Early stopping, best iteration is:\n",
            "[115]\tvalid_0's f1: 0.977169\n",
            "Training until validation scores don't improve for 50 rounds\n",
            "Early stopping, best iteration is:\n",
            "[181]\tvalid_0's f1: 0.969072\n",
            "Training until validation scores don't improve for 50 rounds\n",
            "Early stopping, best iteration is:\n",
            "[185]\tvalid_0's f1: 0.976852\n",
            "Training until validation scores don't improve for 50 rounds\n"
          ]
        },
        {
          "output_type": "stream",
          "name": "stderr",
          "text": [
            "[I 2025-02-09 14:10:52,267] Trial 44 finished with value: 0.9719540229885058 and parameters: {'num_leaves': 161, 'learning_rate': 0.062247870799938945, 'max_depth': 7, 'feature_fraction': 0.6696399512737443, 'bagging_fraction': 0.8279892458727764, 'lambda_l1': 0.0010154191794248468, 'lambda_l2': 0.027326173080255096, 'min_data_in_leaf': 70}. Best is trial 32 with value: 0.9742410303587856.\n"
          ]
        },
        {
          "output_type": "stream",
          "name": "stdout",
          "text": [
            "Early stopping, best iteration is:\n",
            "[130]\tvalid_0's f1: 0.973472\n"
          ]
        },
        {
          "output_type": "stream",
          "name": "stderr",
          "text": [
            "<ipython-input-13-24a02e8ae29f>:10: FutureWarning: suggest_loguniform has been deprecated in v3.0.0. This feature will be removed in v6.0.0. See https://github.com/optuna/optuna/releases/tag/v3.0.0. Use suggest_float(..., log=True) instead.\n",
            "  'learning_rate': trial.suggest_loguniform('learning_rate', 0.01, 0.1),\n",
            "<ipython-input-13-24a02e8ae29f>:12: FutureWarning: suggest_uniform has been deprecated in v3.0.0. This feature will be removed in v6.0.0. See https://github.com/optuna/optuna/releases/tag/v3.0.0. Use suggest_float instead.\n",
            "  'feature_fraction': trial.suggest_uniform('feature_fraction', 0.6, 0.9),\n",
            "<ipython-input-13-24a02e8ae29f>:13: FutureWarning: suggest_uniform has been deprecated in v3.0.0. This feature will be removed in v6.0.0. See https://github.com/optuna/optuna/releases/tag/v3.0.0. Use suggest_float instead.\n",
            "  'bagging_fraction': trial.suggest_uniform('bagging_fraction', 0.7, 0.9),\n",
            "<ipython-input-13-24a02e8ae29f>:14: FutureWarning: suggest_loguniform has been deprecated in v3.0.0. This feature will be removed in v6.0.0. See https://github.com/optuna/optuna/releases/tag/v3.0.0. Use suggest_float(..., log=True) instead.\n",
            "  'lambda_l1': trial.suggest_loguniform('lambda_l1', 1e-3, 10.0),\n",
            "<ipython-input-13-24a02e8ae29f>:15: FutureWarning: suggest_loguniform has been deprecated in v3.0.0. This feature will be removed in v6.0.0. See https://github.com/optuna/optuna/releases/tag/v3.0.0. Use suggest_float(..., log=True) instead.\n",
            "  'lambda_l2': trial.suggest_loguniform('lambda_l2', 1e-3, 10.0),\n"
          ]
        },
        {
          "output_type": "stream",
          "name": "stdout",
          "text": [
            "Training until validation scores don't improve for 50 rounds\n",
            "Early stopping, best iteration is:\n",
            "[221]\tvalid_0's f1: 0.958716\n",
            "Training until validation scores don't improve for 50 rounds\n",
            "Early stopping, best iteration is:\n",
            "[235]\tvalid_0's f1: 0.977064\n",
            "Training until validation scores don't improve for 50 rounds\n",
            "Early stopping, best iteration is:\n",
            "[233]\tvalid_0's f1: 0.968858\n",
            "Training until validation scores don't improve for 50 rounds\n",
            "Early stopping, best iteration is:\n",
            "[199]\tvalid_0's f1: 0.978085\n",
            "Training until validation scores don't improve for 50 rounds\n"
          ]
        },
        {
          "output_type": "stream",
          "name": "stderr",
          "text": [
            "[I 2025-02-09 14:10:59,628] Trial 45 finished with value: 0.9714680165669581 and parameters: {'num_leaves': 199, 'learning_rate': 0.04510942085435705, 'max_depth': 6, 'feature_fraction': 0.8909484014838553, 'bagging_fraction': 0.8687417453789246, 'lambda_l1': 0.023663346493940772, 'lambda_l2': 0.001737511001451501, 'min_data_in_leaf': 52}. Best is trial 32 with value: 0.9742410303587856.\n"
          ]
        },
        {
          "output_type": "stream",
          "name": "stdout",
          "text": [
            "Early stopping, best iteration is:\n",
            "[205]\tvalid_0's f1: 0.974654\n",
            "Training until validation scores don't improve for 50 rounds\n"
          ]
        },
        {
          "output_type": "stream",
          "name": "stderr",
          "text": [
            "<ipython-input-13-24a02e8ae29f>:10: FutureWarning: suggest_loguniform has been deprecated in v3.0.0. This feature will be removed in v6.0.0. See https://github.com/optuna/optuna/releases/tag/v3.0.0. Use suggest_float(..., log=True) instead.\n",
            "  'learning_rate': trial.suggest_loguniform('learning_rate', 0.01, 0.1),\n",
            "<ipython-input-13-24a02e8ae29f>:12: FutureWarning: suggest_uniform has been deprecated in v3.0.0. This feature will be removed in v6.0.0. See https://github.com/optuna/optuna/releases/tag/v3.0.0. Use suggest_float instead.\n",
            "  'feature_fraction': trial.suggest_uniform('feature_fraction', 0.6, 0.9),\n",
            "<ipython-input-13-24a02e8ae29f>:13: FutureWarning: suggest_uniform has been deprecated in v3.0.0. This feature will be removed in v6.0.0. See https://github.com/optuna/optuna/releases/tag/v3.0.0. Use suggest_float instead.\n",
            "  'bagging_fraction': trial.suggest_uniform('bagging_fraction', 0.7, 0.9),\n",
            "<ipython-input-13-24a02e8ae29f>:14: FutureWarning: suggest_loguniform has been deprecated in v3.0.0. This feature will be removed in v6.0.0. See https://github.com/optuna/optuna/releases/tag/v3.0.0. Use suggest_float(..., log=True) instead.\n",
            "  'lambda_l1': trial.suggest_loguniform('lambda_l1', 1e-3, 10.0),\n",
            "<ipython-input-13-24a02e8ae29f>:15: FutureWarning: suggest_loguniform has been deprecated in v3.0.0. This feature will be removed in v6.0.0. See https://github.com/optuna/optuna/releases/tag/v3.0.0. Use suggest_float(..., log=True) instead.\n",
            "  'lambda_l2': trial.suggest_loguniform('lambda_l2', 1e-3, 10.0),\n"
          ]
        },
        {
          "output_type": "stream",
          "name": "stdout",
          "text": [
            "Early stopping, best iteration is:\n",
            "[49]\tvalid_0's f1: 0.936364\n",
            "Training until validation scores don't improve for 50 rounds\n",
            "Early stopping, best iteration is:\n",
            "[227]\tvalid_0's f1: 0.976\n",
            "Training until validation scores don't improve for 50 rounds\n",
            "Early stopping, best iteration is:\n",
            "[123]\tvalid_0's f1: 0.958904\n",
            "Training until validation scores don't improve for 50 rounds\n",
            "Early stopping, best iteration is:\n",
            "[221]\tvalid_0's f1: 0.974596\n",
            "Training until validation scores don't improve for 50 rounds\n"
          ]
        },
        {
          "output_type": "stream",
          "name": "stderr",
          "text": [
            "[I 2025-02-09 14:11:03,029] Trial 46 finished with value: 0.9587912087912088 and parameters: {'num_leaves': 53, 'learning_rate': 0.03331783952344868, 'max_depth': 9, 'feature_fraction': 0.6959054041169456, 'bagging_fraction': 0.7295628672646414, 'lambda_l1': 0.003862387231685051, 'lambda_l2': 0.004063159443784443, 'min_data_in_leaf': 89}. Best is trial 32 with value: 0.9742410303587856.\n"
          ]
        },
        {
          "output_type": "stream",
          "name": "stdout",
          "text": [
            "Early stopping, best iteration is:\n",
            "[15]\tvalid_0's f1: 0.948335\n",
            "Training until validation scores don't improve for 50 rounds\n"
          ]
        },
        {
          "output_type": "stream",
          "name": "stderr",
          "text": [
            "<ipython-input-13-24a02e8ae29f>:10: FutureWarning: suggest_loguniform has been deprecated in v3.0.0. This feature will be removed in v6.0.0. See https://github.com/optuna/optuna/releases/tag/v3.0.0. Use suggest_float(..., log=True) instead.\n",
            "  'learning_rate': trial.suggest_loguniform('learning_rate', 0.01, 0.1),\n",
            "<ipython-input-13-24a02e8ae29f>:12: FutureWarning: suggest_uniform has been deprecated in v3.0.0. This feature will be removed in v6.0.0. See https://github.com/optuna/optuna/releases/tag/v3.0.0. Use suggest_float instead.\n",
            "  'feature_fraction': trial.suggest_uniform('feature_fraction', 0.6, 0.9),\n",
            "<ipython-input-13-24a02e8ae29f>:13: FutureWarning: suggest_uniform has been deprecated in v3.0.0. This feature will be removed in v6.0.0. See https://github.com/optuna/optuna/releases/tag/v3.0.0. Use suggest_float instead.\n",
            "  'bagging_fraction': trial.suggest_uniform('bagging_fraction', 0.7, 0.9),\n",
            "<ipython-input-13-24a02e8ae29f>:14: FutureWarning: suggest_loguniform has been deprecated in v3.0.0. This feature will be removed in v6.0.0. See https://github.com/optuna/optuna/releases/tag/v3.0.0. Use suggest_float(..., log=True) instead.\n",
            "  'lambda_l1': trial.suggest_loguniform('lambda_l1', 1e-3, 10.0),\n",
            "<ipython-input-13-24a02e8ae29f>:15: FutureWarning: suggest_loguniform has been deprecated in v3.0.0. This feature will be removed in v6.0.0. See https://github.com/optuna/optuna/releases/tag/v3.0.0. Use suggest_float(..., log=True) instead.\n",
            "  'lambda_l2': trial.suggest_loguniform('lambda_l2', 1e-3, 10.0),\n"
          ]
        },
        {
          "output_type": "stream",
          "name": "stdout",
          "text": [
            "Early stopping, best iteration is:\n",
            "[160]\tvalid_0's f1: 0.963303\n",
            "Training until validation scores don't improve for 50 rounds\n",
            "Early stopping, best iteration is:\n",
            "[117]\tvalid_0's f1: 0.978236\n",
            "Training until validation scores don't improve for 50 rounds\n",
            "Early stopping, best iteration is:\n",
            "[71]\tvalid_0's f1: 0.966705\n",
            "Training until validation scores don't improve for 50 rounds\n",
            "Early stopping, best iteration is:\n",
            "[63]\tvalid_0's f1: 0.975779\n",
            "Training until validation scores don't improve for 50 rounds\n"
          ]
        },
        {
          "output_type": "stream",
          "name": "stderr",
          "text": [
            "[I 2025-02-09 14:11:09,927] Trial 47 finished with value: 0.9724137931034482 and parameters: {'num_leaves': 136, 'learning_rate': 0.08857019566880453, 'max_depth': 8, 'feature_fraction': 0.6220793210098279, 'bagging_fraction': 0.8523302924390337, 'lambda_l1': 0.06616826906380095, 'lambda_l2': 0.009572737092374944, 'min_data_in_leaf': 36}. Best is trial 32 with value: 0.9742410303587856.\n"
          ]
        },
        {
          "output_type": "stream",
          "name": "stdout",
          "text": [
            "Early stopping, best iteration is:\n",
            "[179]\tvalid_0's f1: 0.978085\n",
            "Training until validation scores don't improve for 50 rounds\n"
          ]
        },
        {
          "output_type": "stream",
          "name": "stderr",
          "text": [
            "<ipython-input-13-24a02e8ae29f>:10: FutureWarning: suggest_loguniform has been deprecated in v3.0.0. This feature will be removed in v6.0.0. See https://github.com/optuna/optuna/releases/tag/v3.0.0. Use suggest_float(..., log=True) instead.\n",
            "  'learning_rate': trial.suggest_loguniform('learning_rate', 0.01, 0.1),\n",
            "<ipython-input-13-24a02e8ae29f>:12: FutureWarning: suggest_uniform has been deprecated in v3.0.0. This feature will be removed in v6.0.0. See https://github.com/optuna/optuna/releases/tag/v3.0.0. Use suggest_float instead.\n",
            "  'feature_fraction': trial.suggest_uniform('feature_fraction', 0.6, 0.9),\n",
            "<ipython-input-13-24a02e8ae29f>:13: FutureWarning: suggest_uniform has been deprecated in v3.0.0. This feature will be removed in v6.0.0. See https://github.com/optuna/optuna/releases/tag/v3.0.0. Use suggest_float instead.\n",
            "  'bagging_fraction': trial.suggest_uniform('bagging_fraction', 0.7, 0.9),\n",
            "<ipython-input-13-24a02e8ae29f>:14: FutureWarning: suggest_loguniform has been deprecated in v3.0.0. This feature will be removed in v6.0.0. See https://github.com/optuna/optuna/releases/tag/v3.0.0. Use suggest_float(..., log=True) instead.\n",
            "  'lambda_l1': trial.suggest_loguniform('lambda_l1', 1e-3, 10.0),\n",
            "<ipython-input-13-24a02e8ae29f>:15: FutureWarning: suggest_loguniform has been deprecated in v3.0.0. This feature will be removed in v6.0.0. See https://github.com/optuna/optuna/releases/tag/v3.0.0. Use suggest_float(..., log=True) instead.\n",
            "  'lambda_l2': trial.suggest_loguniform('lambda_l2', 1e-3, 10.0),\n"
          ]
        },
        {
          "output_type": "stream",
          "name": "stdout",
          "text": [
            "Early stopping, best iteration is:\n",
            "[182]\tvalid_0's f1: 0.966628\n",
            "Training until validation scores don't improve for 50 rounds\n",
            "Early stopping, best iteration is:\n",
            "[214]\tvalid_0's f1: 0.980482\n",
            "Training until validation scores don't improve for 50 rounds\n",
            "Early stopping, best iteration is:\n",
            "[77]\tvalid_0's f1: 0.966857\n",
            "Training until validation scores don't improve for 50 rounds\n",
            "Early stopping, best iteration is:\n",
            "[114]\tvalid_0's f1: 0.975779\n",
            "Training until validation scores don't improve for 50 rounds\n"
          ]
        },
        {
          "output_type": "stream",
          "name": "stderr",
          "text": [
            "[I 2025-02-09 14:11:13,585] Trial 48 finished with value: 0.9735571395723155 and parameters: {'num_leaves': 192, 'learning_rate': 0.09001981910906427, 'max_depth': 6, 'feature_fraction': 0.6461289269668685, 'bagging_fraction': 0.8406154852648984, 'lambda_l1': 0.027853988575898683, 'lambda_l2': 0.0015493484767168735, 'min_data_in_leaf': 30}. Best is trial 32 with value: 0.9742410303587856.\n"
          ]
        },
        {
          "output_type": "stream",
          "name": "stdout",
          "text": [
            "Early stopping, best iteration is:\n",
            "[106]\tvalid_0's f1: 0.978085\n",
            "Training until validation scores don't improve for 50 rounds\n"
          ]
        },
        {
          "output_type": "stream",
          "name": "stderr",
          "text": [
            "<ipython-input-13-24a02e8ae29f>:10: FutureWarning: suggest_loguniform has been deprecated in v3.0.0. This feature will be removed in v6.0.0. See https://github.com/optuna/optuna/releases/tag/v3.0.0. Use suggest_float(..., log=True) instead.\n",
            "  'learning_rate': trial.suggest_loguniform('learning_rate', 0.01, 0.1),\n",
            "<ipython-input-13-24a02e8ae29f>:12: FutureWarning: suggest_uniform has been deprecated in v3.0.0. This feature will be removed in v6.0.0. See https://github.com/optuna/optuna/releases/tag/v3.0.0. Use suggest_float instead.\n",
            "  'feature_fraction': trial.suggest_uniform('feature_fraction', 0.6, 0.9),\n",
            "<ipython-input-13-24a02e8ae29f>:13: FutureWarning: suggest_uniform has been deprecated in v3.0.0. This feature will be removed in v6.0.0. See https://github.com/optuna/optuna/releases/tag/v3.0.0. Use suggest_float instead.\n",
            "  'bagging_fraction': trial.suggest_uniform('bagging_fraction', 0.7, 0.9),\n",
            "<ipython-input-13-24a02e8ae29f>:14: FutureWarning: suggest_loguniform has been deprecated in v3.0.0. This feature will be removed in v6.0.0. See https://github.com/optuna/optuna/releases/tag/v3.0.0. Use suggest_float(..., log=True) instead.\n",
            "  'lambda_l1': trial.suggest_loguniform('lambda_l1', 1e-3, 10.0),\n",
            "<ipython-input-13-24a02e8ae29f>:15: FutureWarning: suggest_loguniform has been deprecated in v3.0.0. This feature will be removed in v6.0.0. See https://github.com/optuna/optuna/releases/tag/v3.0.0. Use suggest_float(..., log=True) instead.\n",
            "  'lambda_l2': trial.suggest_loguniform('lambda_l2', 1e-3, 10.0),\n"
          ]
        },
        {
          "output_type": "stream",
          "name": "stdout",
          "text": [
            "Early stopping, best iteration is:\n",
            "[118]\tvalid_0's f1: 0.957714\n",
            "Training until validation scores don't improve for 50 rounds\n",
            "Early stopping, best iteration is:\n",
            "[238]\tvalid_0's f1: 0.979405\n",
            "Training until validation scores don't improve for 50 rounds\n",
            "Early stopping, best iteration is:\n",
            "[127]\tvalid_0's f1: 0.96789\n",
            "Training until validation scores don't improve for 50 rounds\n",
            "Early stopping, best iteration is:\n",
            "[145]\tvalid_0's f1: 0.973472\n",
            "Training until validation scores don't improve for 50 rounds\n"
          ]
        },
        {
          "output_type": "stream",
          "name": "stderr",
          "text": [
            "[I 2025-02-09 14:11:17,364] Trial 49 finished with value: 0.970615243342516 and parameters: {'num_leaves': 214, 'learning_rate': 0.0999934371249228, 'max_depth': 6, 'feature_fraction': 0.6050704336409714, 'bagging_fraction': 0.8371854244744164, 'lambda_l1': 0.030979132470983477, 'lambda_l2': 9.913078255583502, 'min_data_in_leaf': 30}. Best is trial 32 with value: 0.9742410303587856.\n"
          ]
        },
        {
          "output_type": "stream",
          "name": "stdout",
          "text": [
            "Early stopping, best iteration is:\n",
            "[135]\tvalid_0's f1: 0.974654\n",
            "Best parameters: {'num_leaves': 171, 'learning_rate': 0.08056540387365017, 'max_depth': 7, 'feature_fraction': 0.6234234753246524, 'bagging_fraction': 0.8350901769307447, 'lambda_l1': 0.15587808288370886, 'lambda_l2': 0.0010000913881142053, 'min_data_in_leaf': 38}\n"
          ]
        }
      ]
    },
    {
      "cell_type": "code",
      "source": [
        "# optuna로 찾은 best params 저장\n",
        "best_params = study.best_params\n",
        "best_params.update({\n",
        "    'objective': 'binary',\n",
        "    'boosting_type': 'gbdt',\n",
        "    'metric': 'f1',\n",
        "    'class_weight': 'balanced',\n",
        "    'seed': 42\n",
        "})"
      ],
      "metadata": {
        "id": "TXcFqE7UEEfy"
      },
      "execution_count": 15,
      "outputs": []
    },
    {
      "cell_type": "code",
      "execution_count": 19,
      "metadata": {
        "id": "n6NSbl7_Bakh"
      },
      "outputs": [],
      "source": [
        "# oof_preds와 test_preds 초기화 (SMOTE 이후 데이터 크기로 조정)\n",
        "test_preds = np.zeros(len(test))\n",
        "\n",
        "# 최종 모델 학습\n",
        "train_data = lgb.Dataset(X_sm, label=y_sm)\n",
        "final_model = lgb.train(\n",
        "    best_params,\n",
        "    train_data,\n",
        "    num_boost_round=500\n",
        ")\n",
        "\n",
        "# 예측 및 저장\n",
        "test_preds += final_model.predict(test)"
      ]
    },
    {
      "cell_type": "code",
      "execution_count": 20,
      "metadata": {
        "colab": {
          "base_uri": "https://localhost:8080/"
        },
        "id": "9wZbsoJ_Baki",
        "outputId": "7006b717-e8c2-4bae-c751-55a9fcc38389"
      },
      "outputs": [
        {
          "output_type": "stream",
          "name": "stdout",
          "text": [
            "Submission file saved to 'submission_lgbm_optuna.csv'\n"
          ]
        }
      ],
      "source": [
        "# === 테스트 데이터 예측 및 저장 ===\n",
        "test_preds_binary = (test_preds > 0.5).astype(int)\n",
        "submission = pd.DataFrame({'ID': test_id, '허위매물여부': test_preds_binary})\n",
        "submission.to_csv('/content/drive/MyDrive/DACON/2025/(202502) 부동산 허위매물 분류 해커톤: 가짜를 색출하라!/submission_lgbm_optuna.csv', index=False)\n",
        "print(\"Submission file saved to 'submission_lgbm_optuna.csv'\")"
      ]
    }
  ],
  "metadata": {
    "kernelspec": {
      "display_name": "real_estate_fraud_env",
      "language": "python",
      "name": "python3"
    },
    "language_info": {
      "codemirror_mode": {
        "name": "ipython",
        "version": 3
      },
      "file_extension": ".py",
      "mimetype": "text/x-python",
      "name": "python",
      "nbconvert_exporter": "python",
      "pygments_lexer": "ipython3",
      "version": "3.9.21"
    },
    "colab": {
      "provenance": [],
      "include_colab_link": true
    }
  },
  "nbformat": 4,
  "nbformat_minor": 0
}